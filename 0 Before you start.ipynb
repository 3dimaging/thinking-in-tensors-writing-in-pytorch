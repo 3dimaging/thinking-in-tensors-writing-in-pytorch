{
 "cells": [
  {
   "cell_type": "markdown",
   "metadata": {},
   "source": [
    "# Thinking in tensors, writing in PyTorch\n",
    "\n",
    "A hands-on course by [Piotr Migdał](https://p.migdal.pl) et al. (2019).\n",
    "\n",
    "An interactive, installation-free version of this course: [![Open In Colab](https://colab.research.google.com/assets/colab-badge.svg)](https://colab.research.google.com/github/stared/thinking-in-tensors-writing-in-pytorch/)\n",
    "\n",
    "## Notebook 0: Before you start\n",
    "\n",
    "\n",
    "[![Open In Colab](https://colab.research.google.com/assets/colab-badge.svg)](https://colab.research.google.com/github/stared/thinking-in-tensors-writing-in-pytorch/blob/master/0%20Before%20you%20start.ipynb)\n",
    "\n",
    "It is an introduction to deep learning using PyTorch.\n",
    "\n",
    "More about it in the description: https://github.com/stared/thinking-in-tensors-writing-in-pytorch\n",
    "\n",
    "Also, if you have any problems, please use [GitHub issues](https://github.com/stared/thinking-in-tensors-writing-in-pytorch/issues). \n",
    "\n",
    "\n",
    "### Installation instructions\n",
    "\n",
    "The whole course in Jupyter Notebook, an interactive interface for Python 3.\n",
    "\n",
    "There are a few ways to run it.\n",
    "\n",
    "* online, using [Google Colaboratory](https://colab.research.google.com/)\n",
    "* locally, using [Anaconda Distribution](https://www.anaconda.com/distribution/#download-section)\n",
    "\n",
    "On top of standard scientific libraries to Python (3.5 or higher), we need:\n",
    "\n",
    "* [PyTorch](https://pytorch.org/)\n",
    "* [livelossplot](https://github.com/stared/livelossplot)"
   ]
  },
  {
   "cell_type": "code",
   "execution_count": null,
   "metadata": {},
   "outputs": [],
   "source": [
    "import torch"
   ]
  },
  {
   "cell_type": "code",
   "execution_count": null,
   "metadata": {},
   "outputs": [],
   "source": [
    "torch.__version__  # should be 1.0.0 or higher"
   ]
  },
  {
   "cell_type": "code",
   "execution_count": null,
   "metadata": {},
   "outputs": [],
   "source": [
    "import livelossplot"
   ]
  },
  {
   "cell_type": "code",
   "execution_count": null,
   "metadata": {},
   "outputs": [],
   "source": [
    "livelossplot.__version__  #should be 0.3.4 or higher"
   ]
  },
  {
   "cell_type": "code",
   "execution_count": 1,
   "metadata": {},
   "outputs": [
    {
     "name": "stdout",
     "output_type": "stream",
     "text": [
      "Requirement already satisfied: livelossplot in /Users/pmigdal/anaconda3/lib/python3.5/site-packages (0.3.4)\n",
      "Requirement already satisfied: matplotlib in /Users/pmigdal/anaconda3/lib/python3.5/site-packages (from livelossplot) (2.2.2)\n",
      "Requirement already satisfied: notebook in /Users/pmigdal/anaconda3/lib/python3.5/site-packages (from livelossplot) (5.7.0)\n",
      "Requirement already satisfied: numpy>=1.7.1 in /Users/pmigdal/anaconda3/lib/python3.5/site-packages (from matplotlib->livelossplot) (1.14.5)\n",
      "Requirement already satisfied: cycler>=0.10 in /Users/pmigdal/anaconda3/lib/python3.5/site-packages (from matplotlib->livelossplot) (0.10.0)\n",
      "Requirement already satisfied: pyparsing!=2.0.4,!=2.1.2,!=2.1.6,>=2.0.1 in /Users/pmigdal/anaconda3/lib/python3.5/site-packages (from matplotlib->livelossplot) (2.2.0)\n",
      "Requirement already satisfied: python-dateutil>=2.1 in /Users/pmigdal/anaconda3/lib/python3.5/site-packages (from matplotlib->livelossplot) (2.7.2)\n",
      "Requirement already satisfied: pytz in /Users/pmigdal/anaconda3/lib/python3.5/site-packages (from matplotlib->livelossplot) (2018.3)\n",
      "Requirement already satisfied: six>=1.10 in /Users/pmigdal/anaconda3/lib/python3.5/site-packages (from matplotlib->livelossplot) (1.12.0)\n",
      "Requirement already satisfied: kiwisolver>=1.0.1 in /Users/pmigdal/anaconda3/lib/python3.5/site-packages (from matplotlib->livelossplot) (1.0.1)\n",
      "Requirement already satisfied: jinja2 in /Users/pmigdal/anaconda3/lib/python3.5/site-packages (from notebook->livelossplot) (2.10)\n",
      "Requirement already satisfied: tornado>=4 in /Users/pmigdal/anaconda3/lib/python3.5/site-packages (from notebook->livelossplot) (5.1.1)\n",
      "Requirement already satisfied: pyzmq>=17 in /Users/pmigdal/anaconda3/lib/python3.5/site-packages (from notebook->livelossplot) (17.1.2)\n",
      "Requirement already satisfied: ipython_genutils in /Users/pmigdal/anaconda3/lib/python3.5/site-packages (from notebook->livelossplot) (0.2.0)\n",
      "Requirement already satisfied: traitlets>=4.2.1 in /Users/pmigdal/anaconda3/lib/python3.5/site-packages (from notebook->livelossplot) (4.3.2)\n",
      "Requirement already satisfied: jupyter_core>=4.4.0 in /Users/pmigdal/anaconda3/lib/python3.5/site-packages (from notebook->livelossplot) (4.4.0)\n",
      "Requirement already satisfied: jupyter_client>=5.2.0 in /Users/pmigdal/anaconda3/lib/python3.5/site-packages (from notebook->livelossplot) (5.2.3)\n",
      "Requirement already satisfied: nbformat in /Users/pmigdal/anaconda3/lib/python3.5/site-packages (from notebook->livelossplot) (4.3.0)\n",
      "Requirement already satisfied: nbconvert in /Users/pmigdal/anaconda3/lib/python3.5/site-packages (from notebook->livelossplot) (5.1.1)\n",
      "Requirement already satisfied: ipykernel in /Users/pmigdal/anaconda3/lib/python3.5/site-packages (from notebook->livelossplot) (4.10.0)\n",
      "Requirement already satisfied: Send2Trash in /Users/pmigdal/anaconda3/lib/python3.5/site-packages (from notebook->livelossplot) (1.5.0)\n",
      "Requirement already satisfied: terminado>=0.8.1 in /Users/pmigdal/anaconda3/lib/python3.5/site-packages (from notebook->livelossplot) (0.8.1)\n",
      "Requirement already satisfied: prometheus_client in /Users/pmigdal/anaconda3/lib/python3.5/site-packages (from notebook->livelossplot) (0.4.2)\n",
      "Requirement already satisfied: setuptools in /Users/pmigdal/anaconda3/lib/python3.5/site-packages (from kiwisolver>=1.0.1->matplotlib->livelossplot) (40.6.3)\n",
      "Requirement already satisfied: MarkupSafe>=0.23 in /Users/pmigdal/anaconda3/lib/python3.5/site-packages (from jinja2->notebook->livelossplot) (1.0)\n",
      "Requirement already satisfied: mistune!=0.6 in /Users/pmigdal/anaconda3/lib/python3.5/site-packages (from nbconvert->notebook->livelossplot) (0.7.4)\n",
      "Requirement already satisfied: pygments in /Users/pmigdal/anaconda3/lib/python3.5/site-packages (from nbconvert->notebook->livelossplot) (2.2.0)\n",
      "Requirement already satisfied: entrypoints>=0.2.2 in /Users/pmigdal/anaconda3/lib/python3.5/site-packages (from nbconvert->notebook->livelossplot) (0.2.2)\n",
      "Requirement already satisfied: bleach in /Users/pmigdal/anaconda3/lib/python3.5/site-packages (from nbconvert->notebook->livelossplot) (3.0.2)\n",
      "Requirement already satisfied: pandocfilters>=1.4.1 in /Users/pmigdal/anaconda3/lib/python3.5/site-packages (from nbconvert->notebook->livelossplot) (1.4.1)\n",
      "Requirement already satisfied: testpath in /Users/pmigdal/anaconda3/lib/python3.5/site-packages (from nbconvert->notebook->livelossplot) (0.3)\n",
      "Requirement already satisfied: ipython>=4.0.0 in /Users/pmigdal/anaconda3/lib/python3.5/site-packages (from ipykernel->notebook->livelossplot) (6.3.1)\n",
      "Requirement already satisfied: webencodings in /Users/pmigdal/anaconda3/lib/python3.5/site-packages (from bleach->nbconvert->notebook->livelossplot) (0.5.1)\n",
      "Requirement already satisfied: appnope; sys_platform == \"darwin\" in /Users/pmigdal/anaconda3/lib/python3.5/site-packages (from ipython>=4.0.0->ipykernel->notebook->livelossplot) (0.1.0)\n",
      "Requirement already satisfied: pexpect; sys_platform != \"win32\" in /Users/pmigdal/anaconda3/lib/python3.5/site-packages (from ipython>=4.0.0->ipykernel->notebook->livelossplot) (4.5.0)\n",
      "Requirement already satisfied: prompt-toolkit<2.0.0,>=1.0.15 in /Users/pmigdal/anaconda3/lib/python3.5/site-packages (from ipython>=4.0.0->ipykernel->notebook->livelossplot) (1.0.15)\n",
      "Requirement already satisfied: jedi>=0.10 in /Users/pmigdal/anaconda3/lib/python3.5/site-packages (from ipython>=4.0.0->ipykernel->notebook->livelossplot) (0.13.3)\n",
      "Requirement already satisfied: backcall in /Users/pmigdal/anaconda3/lib/python3.5/site-packages (from ipython>=4.0.0->ipykernel->notebook->livelossplot) (0.1.0)\n",
      "Requirement already satisfied: decorator in /Users/pmigdal/anaconda3/lib/python3.5/site-packages (from ipython>=4.0.0->ipykernel->notebook->livelossplot) (4.3.0)\n",
      "Requirement already satisfied: pickleshare in /Users/pmigdal/anaconda3/lib/python3.5/site-packages (from ipython>=4.0.0->ipykernel->notebook->livelossplot) (0.7.4)\n",
      "Requirement already satisfied: simplegeneric>0.8 in /Users/pmigdal/anaconda3/lib/python3.5/site-packages (from ipython>=4.0.0->ipykernel->notebook->livelossplot) (0.8.1)\n",
      "Requirement already satisfied: ptyprocess>=0.5 in /Users/pmigdal/anaconda3/lib/python3.5/site-packages (from pexpect; sys_platform != \"win32\"->ipython>=4.0.0->ipykernel->notebook->livelossplot) (0.5.2)\n",
      "Requirement already satisfied: wcwidth in /Users/pmigdal/anaconda3/lib/python3.5/site-packages (from prompt-toolkit<2.0.0,>=1.0.15->ipython>=4.0.0->ipykernel->notebook->livelossplot) (0.1.7)\n",
      "Requirement already satisfied: parso>=0.3.0 in /Users/pmigdal/anaconda3/lib/python3.5/site-packages (from jedi>=0.10->ipython>=4.0.0->ipykernel->notebook->livelossplot) (0.4.0)\n"
     ]
    }
   ],
   "source": [
    "# if it doesn't work, type\n",
    "!pip install livelossplot"
   ]
  },
  {
   "cell_type": "code",
   "execution_count": null,
   "metadata": {},
   "outputs": [],
   "source": []
  }
 ],
 "metadata": {
  "kernelspec": {
   "display_name": "Python [default]",
   "language": "python",
   "name": "python3"
  },
  "language_info": {
   "codemirror_mode": {
    "name": "ipython",
    "version": 3
   },
   "file_extension": ".py",
   "mimetype": "text/x-python",
   "name": "python",
   "nbconvert_exporter": "python",
   "pygments_lexer": "ipython3",
   "version": "3.5.4"
  },
  "varInspector": {
   "cols": {
    "lenName": 16,
    "lenType": 16,
    "lenVar": 40
   },
   "kernels_config": {
    "python": {
     "delete_cmd_postfix": "",
     "delete_cmd_prefix": "del ",
     "library": "var_list.py",
     "varRefreshCmd": "print(var_dic_list())"
    },
    "r": {
     "delete_cmd_postfix": ") ",
     "delete_cmd_prefix": "rm(",
     "library": "var_list.r",
     "varRefreshCmd": "cat(var_dic_list()) "
    }
   },
   "types_to_exclude": [
    "module",
    "function",
    "builtin_function_or_method",
    "instance",
    "_Feature"
   ],
   "window_display": false
  }
 },
 "nbformat": 4,
 "nbformat_minor": 2
}
