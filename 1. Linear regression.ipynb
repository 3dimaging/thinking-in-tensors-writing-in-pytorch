{
 "cells": [
  {
   "cell_type": "markdown",
   "metadata": {},
   "source": [
    "# 1. Linear regression"
   ]
  },
  {
   "cell_type": "markdown",
   "metadata": {},
   "source": [
    "<em>Prepared by [Weronika Ormaniec](https://github.com/werkaaa)</em>"
   ]
  },
  {
   "cell_type": "markdown",
   "metadata": {},
   "source": [
    "Simple [linear regression](https://en.wikipedia.org/wiki/Linear_regression)\n",
    " tries to model the dependence between explanatory variable and dependent variable by matching a proper line into the analysed data. Before attepmting to use linear regression one should determine if the variables depend on each other and if their relationship is linear (or may be scaled into a linear one).\n",
    "![https://upload.wikimedia.org/wikipedia/commons/3/34/Correlation_coefficient.png](https://upload.wikimedia.org/wikipedia/commons/3/34/Correlation_coefficient.png)\n",
    "![https://imgs.xkcd.com/comics/linear_regression.png](https://imgs.xkcd.com/comics/linear_regression.png)\n",
    "\n",
    "Sometimes, linear regression is not a propper approach to the analysed problem.\n",
    "![https://imgs.xkcd.com/comics/extrapolating.png](https://imgs.xkcd.com/comics/extrapolating.png)\n",
    "\n",
    "However, it occurs that lots of dependencies in the actual world can be described just by fitting a linear equation to the observed data. That's what we are going to do now!"
   ]
  },
  {
   "cell_type": "code",
   "execution_count": 1,
   "metadata": {},
   "outputs": [
    {
     "name": "stderr",
     "output_type": "stream",
     "text": [
      "Using TensorFlow backend.\n"
     ]
    }
   ],
   "source": [
    "import numpy as np\n",
    "import matplotlib.pyplot as plt\n",
    "import pandas as pd\n",
    "\n",
    "import torch\n",
    "import torch.nn as nn\n",
    "import torch.nn.functional as F\n",
    "\n",
    "from livelossplot import PlotLosses\n",
    "from ipywidgets import interact, fixed\n",
    "import ipywidgets as widgets"
   ]
  },
  {
   "cell_type": "code",
   "execution_count": 2,
   "metadata": {},
   "outputs": [],
   "source": [
    "data = pd.read_csv(\"data/Animals.csv\", index_col=0)"
   ]
  },
  {
   "cell_type": "markdown",
   "metadata": {},
   "source": [
    "#### Have you ever wondered what is the relation between brain and body weights among various animal species?\n",
    "We will try to find a solution to this problem."
   ]
  },
  {
   "cell_type": "code",
   "execution_count": 3,
   "metadata": {
    "scrolled": true
   },
   "outputs": [
    {
     "data": {
      "text/html": [
       "<div>\n",
       "<style scoped>\n",
       "    .dataframe tbody tr th:only-of-type {\n",
       "        vertical-align: middle;\n",
       "    }\n",
       "\n",
       "    .dataframe tbody tr th {\n",
       "        vertical-align: top;\n",
       "    }\n",
       "\n",
       "    .dataframe thead th {\n",
       "        text-align: right;\n",
       "    }\n",
       "</style>\n",
       "<table border=\"1\" class=\"dataframe\">\n",
       "  <thead>\n",
       "    <tr style=\"text-align: right;\">\n",
       "      <th></th>\n",
       "      <th>BodyWeight(kg)</th>\n",
       "      <th>BrainWeight(kg)</th>\n",
       "      <th>Brain-to-Body-Weight_Proportion</th>\n",
       "    </tr>\n",
       "    <tr>\n",
       "      <th>Species</th>\n",
       "      <th></th>\n",
       "      <th></th>\n",
       "      <th></th>\n",
       "    </tr>\n",
       "  </thead>\n",
       "  <tbody>\n",
       "    <tr>\n",
       "      <th>Newborn_Human</th>\n",
       "      <td>3.20</td>\n",
       "      <td>0.374985</td>\n",
       "      <td>0.117183</td>\n",
       "    </tr>\n",
       "    <tr>\n",
       "      <th>Adult_Human</th>\n",
       "      <td>73.00</td>\n",
       "      <td>1.349982</td>\n",
       "      <td>0.018493</td>\n",
       "    </tr>\n",
       "    <tr>\n",
       "      <th>Pithecanthropus_Man</th>\n",
       "      <td>70.00</td>\n",
       "      <td>0.925011</td>\n",
       "      <td>0.013214</td>\n",
       "    </tr>\n",
       "    <tr>\n",
       "      <th>Squirrel</th>\n",
       "      <td>0.80</td>\n",
       "      <td>0.007620</td>\n",
       "      <td>0.009525</td>\n",
       "    </tr>\n",
       "    <tr>\n",
       "      <th>Hamster</th>\n",
       "      <td>0.15</td>\n",
       "      <td>0.001406</td>\n",
       "      <td>0.009374</td>\n",
       "    </tr>\n",
       "    <tr>\n",
       "      <th>Chimpanzee</th>\n",
       "      <td>50.00</td>\n",
       "      <td>0.419981</td>\n",
       "      <td>0.008400</td>\n",
       "    </tr>\n",
       "    <tr>\n",
       "      <th>Rabbit</th>\n",
       "      <td>1.40</td>\n",
       "      <td>0.011521</td>\n",
       "      <td>0.008229</td>\n",
       "    </tr>\n",
       "    <tr>\n",
       "      <th>Dog_(Beagle)</th>\n",
       "      <td>10.00</td>\n",
       "      <td>0.071985</td>\n",
       "      <td>0.007199</td>\n",
       "    </tr>\n",
       "    <tr>\n",
       "      <th>Cat</th>\n",
       "      <td>4.50</td>\n",
       "      <td>0.029982</td>\n",
       "      <td>0.006663</td>\n",
       "    </tr>\n",
       "    <tr>\n",
       "      <th>Rat</th>\n",
       "      <td>0.40</td>\n",
       "      <td>0.001996</td>\n",
       "      <td>0.004990</td>\n",
       "    </tr>\n",
       "    <tr>\n",
       "      <th>Bottle-Nosed_Dolphin</th>\n",
       "      <td>400.00</td>\n",
       "      <td>1.499985</td>\n",
       "      <td>0.003750</td>\n",
       "    </tr>\n",
       "    <tr>\n",
       "      <th>Beaver</th>\n",
       "      <td>24.00</td>\n",
       "      <td>0.044996</td>\n",
       "      <td>0.001875</td>\n",
       "    </tr>\n",
       "    <tr>\n",
       "      <th>Gorilla</th>\n",
       "      <td>320.00</td>\n",
       "      <td>0.502490</td>\n",
       "      <td>0.001570</td>\n",
       "    </tr>\n",
       "    <tr>\n",
       "      <th>Tiger</th>\n",
       "      <td>170.00</td>\n",
       "      <td>0.263492</td>\n",
       "      <td>0.001550</td>\n",
       "    </tr>\n",
       "    <tr>\n",
       "      <th>Owl</th>\n",
       "      <td>1.50</td>\n",
       "      <td>0.002223</td>\n",
       "      <td>0.001482</td>\n",
       "    </tr>\n",
       "    <tr>\n",
       "      <th>Camel</th>\n",
       "      <td>550.00</td>\n",
       "      <td>0.761990</td>\n",
       "      <td>0.001385</td>\n",
       "    </tr>\n",
       "    <tr>\n",
       "      <th>Elephant</th>\n",
       "      <td>4600.00</td>\n",
       "      <td>5.999984</td>\n",
       "      <td>0.001304</td>\n",
       "    </tr>\n",
       "    <tr>\n",
       "      <th>Lion</th>\n",
       "      <td>187.00</td>\n",
       "      <td>0.239996</td>\n",
       "      <td>0.001283</td>\n",
       "    </tr>\n",
       "    <tr>\n",
       "      <th>Sheep</th>\n",
       "      <td>120.00</td>\n",
       "      <td>0.139979</td>\n",
       "      <td>0.001166</td>\n",
       "    </tr>\n",
       "    <tr>\n",
       "      <th>Walrus</th>\n",
       "      <td>800.00</td>\n",
       "      <td>0.925011</td>\n",
       "      <td>0.001156</td>\n",
       "    </tr>\n",
       "    <tr>\n",
       "      <th>Horse</th>\n",
       "      <td>450.00</td>\n",
       "      <td>0.502490</td>\n",
       "      <td>0.001117</td>\n",
       "    </tr>\n",
       "    <tr>\n",
       "      <th>Cow</th>\n",
       "      <td>700.00</td>\n",
       "      <td>0.441481</td>\n",
       "      <td>0.000631</td>\n",
       "    </tr>\n",
       "    <tr>\n",
       "      <th>Giraffe</th>\n",
       "      <td>950.00</td>\n",
       "      <td>0.532018</td>\n",
       "      <td>0.000560</td>\n",
       "    </tr>\n",
       "    <tr>\n",
       "      <th>Green_Lizard</th>\n",
       "      <td>0.20</td>\n",
       "      <td>0.000091</td>\n",
       "      <td>0.000454</td>\n",
       "    </tr>\n",
       "    <tr>\n",
       "      <th>Sperm_Whale</th>\n",
       "      <td>35000.00</td>\n",
       "      <td>7.799974</td>\n",
       "      <td>0.000223</td>\n",
       "    </tr>\n",
       "    <tr>\n",
       "      <th>Turtle</th>\n",
       "      <td>3.00</td>\n",
       "      <td>0.000318</td>\n",
       "      <td>0.000106</td>\n",
       "    </tr>\n",
       "    <tr>\n",
       "      <th>Alligator</th>\n",
       "      <td>270.00</td>\n",
       "      <td>0.008391</td>\n",
       "      <td>0.000031</td>\n",
       "    </tr>\n",
       "  </tbody>\n",
       "</table>\n",
       "</div>"
      ],
      "text/plain": [
       "                      BodyWeight(kg)  BrainWeight(kg)  \\\n",
       "Species                                                 \n",
       "Newborn_Human                   3.20         0.374985   \n",
       "Adult_Human                    73.00         1.349982   \n",
       "Pithecanthropus_Man            70.00         0.925011   \n",
       "Squirrel                        0.80         0.007620   \n",
       "Hamster                         0.15         0.001406   \n",
       "Chimpanzee                     50.00         0.419981   \n",
       "Rabbit                          1.40         0.011521   \n",
       "Dog_(Beagle)                   10.00         0.071985   \n",
       "Cat                             4.50         0.029982   \n",
       "Rat                             0.40         0.001996   \n",
       "Bottle-Nosed_Dolphin          400.00         1.499985   \n",
       "Beaver                         24.00         0.044996   \n",
       "Gorilla                       320.00         0.502490   \n",
       "Tiger                         170.00         0.263492   \n",
       "Owl                             1.50         0.002223   \n",
       "Camel                         550.00         0.761990   \n",
       "Elephant                     4600.00         5.999984   \n",
       "Lion                          187.00         0.239996   \n",
       "Sheep                         120.00         0.139979   \n",
       "Walrus                        800.00         0.925011   \n",
       "Horse                         450.00         0.502490   \n",
       "Cow                           700.00         0.441481   \n",
       "Giraffe                       950.00         0.532018   \n",
       "Green_Lizard                    0.20         0.000091   \n",
       "Sperm_Whale                 35000.00         7.799974   \n",
       "Turtle                          3.00         0.000318   \n",
       "Alligator                     270.00         0.008391   \n",
       "\n",
       "                      Brain-to-Body-Weight_Proportion  \n",
       "Species                                                \n",
       "Newborn_Human                                0.117183  \n",
       "Adult_Human                                  0.018493  \n",
       "Pithecanthropus_Man                          0.013214  \n",
       "Squirrel                                     0.009525  \n",
       "Hamster                                      0.009374  \n",
       "Chimpanzee                                   0.008400  \n",
       "Rabbit                                       0.008229  \n",
       "Dog_(Beagle)                                 0.007199  \n",
       "Cat                                          0.006663  \n",
       "Rat                                          0.004990  \n",
       "Bottle-Nosed_Dolphin                         0.003750  \n",
       "Beaver                                       0.001875  \n",
       "Gorilla                                      0.001570  \n",
       "Tiger                                        0.001550  \n",
       "Owl                                          0.001482  \n",
       "Camel                                        0.001385  \n",
       "Elephant                                     0.001304  \n",
       "Lion                                         0.001283  \n",
       "Sheep                                        0.001166  \n",
       "Walrus                                       0.001156  \n",
       "Horse                                        0.001117  \n",
       "Cow                                          0.000631  \n",
       "Giraffe                                      0.000560  \n",
       "Green_Lizard                                 0.000454  \n",
       "Sperm_Whale                                  0.000223  \n",
       "Turtle                                       0.000106  \n",
       "Alligator                                    0.000031  "
      ]
     },
     "execution_count": 3,
     "metadata": {},
     "output_type": "execute_result"
    }
   ],
   "source": [
    "data"
   ]
  },
  {
   "cell_type": "markdown",
   "metadata": {},
   "source": [
    "Let's look at the graph:"
   ]
  },
  {
   "cell_type": "code",
   "execution_count": 4,
   "metadata": {},
   "outputs": [
    {
     "data": {
      "text/plain": [
       "<matplotlib.axes._subplots.AxesSubplot at 0x7fc37994fd68>"
      ]
     },
     "execution_count": 4,
     "metadata": {},
     "output_type": "execute_result"
    },
    {
     "data": {
      "image/png": "[encoded data removed]",
      "text/plain": [
       "<Figure size 432x288 with 1 Axes>"
      ]
     },
     "metadata": {
      "needs_background": "light"
     },
     "output_type": "display_data"
    }
   ],
   "source": [
    "data.plot.scatter(x=\"BodyWeight(kg)\", y=\"BrainWeight(kg)\")"
   ]
  },
  {
   "cell_type": "markdown",
   "metadata": {},
   "source": [
    "At first glance it does not resemble any particular dependance. However, if we change the scale something interesting can be spotted:"
   ]
  },
  {
   "cell_type": "code",
   "execution_count": 5,
   "metadata": {},
   "outputs": [
    {
     "data": {
      "text/plain": [
       "<matplotlib.axes._subplots.AxesSubplot at 0x7fc37783a2b0>"
      ]
     },
     "execution_count": 5,
     "metadata": {},
     "output_type": "execute_result"
    },
    {
     "data": {
      "image/png": "[encoded data removed]",
      "text/plain": [
       "<Figure size 432x288 with 1 Axes>"
      ]
     },
     "metadata": {
      "needs_background": "light"
     },
     "output_type": "display_data"
    }
   ],
   "source": [
    "data.plot.scatter(x=\"BodyWeight(kg)\", y=\"BrainWeight(kg)\", logx=True, logy=True)\n",
    "#plt.scatter(np.log(data['BodyWeight(kg)']), np.log(data['BrainWeight(kg)']))"
   ]
  },
  {
   "cell_type": "markdown",
   "metadata": {},
   "source": [
    "We can say that the data points form a line. Then, we can try to find the equation of that line.\n",
    "\n",
    "That is why we need linear regression."
   ]
  },
  {
   "cell_type": "markdown",
   "metadata": {},
   "source": [
    "### 1.0 Linear equation"
   ]
  },
  {
   "cell_type": "markdown",
   "metadata": {},
   "source": [
    "Let's consider two sets of numbers:"
   ]
  },
  {
   "cell_type": "code",
   "execution_count": 6,
   "metadata": {},
   "outputs": [
    {
     "data": {
      "image/png": "[encoded data removed]",
      "text/plain": [
       "<Figure size 432x288 with 1 Axes>"
      ]
     },
     "metadata": {
      "needs_background": "light"
     },
     "output_type": "display_data"
    }
   ],
   "source": [
    "x = [1, 2, 3, 4]\n",
    "y = [3.2, 5.1, 6.9, 9.3]\n",
    "\n",
    "plt.scatter(x, y)\n",
    "plt.show()"
   ]
  },
  {
   "cell_type": "markdown",
   "metadata": {},
   "source": [
    "On the scatterplot it can be easly seen that the relationship between presented data is almost linear. We will try to apply the equation:\n",
    "\n",
    "$$ y = w_0 + w_1x $$\n",
    "\n",
    "to the analysed dataset. The only problem is how to find $w_0$ and $w_1$."
   ]
  },
  {
   "cell_type": "markdown",
   "metadata": {},
   "source": [
    "### 1.1 Manual approach"
   ]
  },
  {
   "cell_type": "markdown",
   "metadata": {},
   "source": [
    "Try to find a proper line manually!"
   ]
  },
  {
   "cell_type": "code",
   "execution_count": 7,
   "metadata": {},
   "outputs": [
    {
     "data": {
      "application/vnd.jupyter.widget-view+json": {
       "model_id": "735ad40830004c85b8e3033107cfafa8",
       "version_major": 2,
       "version_minor": 0
      },
      "text/plain": [
       "interactive(children=(FloatSlider(value=0.0, description='b', max=2.5, min=-2.5), FloatSlider(value=0.0, descr…"
      ]
     },
     "metadata": {},
     "output_type": "display_data"
    },
    {
     "data": {
      "text/plain": [
       "<function __main__.plot_model(b, a, x, y)>"
      ]
     },
     "execution_count": 7,
     "metadata": {},
     "output_type": "execute_result"
    }
   ],
   "source": [
    "def plot_model(b, a, x, y):\n",
    "    y_pred = b + a * np.array(x) \n",
    "    plt.scatter(x, y)\n",
    "    plt.plot(x, y_pred, 'g')\n",
    "    plt.show()\n",
    "    print('a =', a)\n",
    "    print('b =', b)\n",
    "    \n",
    "interact(plot_model, \n",
    "         a=(-2.5, 2.5), \n",
    "         b=(-2.5, 2.5),\n",
    "         x=fixed(x),\n",
    "         y=fixed(y)\n",
    "        )"
   ]
  },
  {
   "cell_type": "markdown",
   "metadata": {},
   "source": [
    "### 1.2 Loss function"
   ]
  },
  {
   "cell_type": "markdown",
   "metadata": {},
   "source": [
    "We will try to somehow measure if the coefficients in the equation are good enough to describe our problem. In order to do it we will define a loss function - an equation that will tell us how much our approximation differs from the expected output. \n",
    "\n",
    "The loss function should:\n",
    "* depend only on the coefficients of the model, expected output and our approximation,\n",
    "* shrink if our approximation is becomming better and grow if it gets worse."
   ]
  },
  {
   "cell_type": "markdown",
   "metadata": {},
   "source": [
    "When it comes to linear regression the most common approach is the least-squares loss function. We will calculate the average square of the vertical deviations from each data point to the line. Since we first square the dviations, it does not matter if the data point is above or below the line. \n",
    "\n",
    "\n",
    "$$y^{ pred}_{i} = ax_{i}+b $$\n",
    "$$L=\\frac{1}{N}\\sum_{i=0}^N( y^{pred}_{i} - y_{i})^2 $$"
   ]
  },
  {
   "cell_type": "markdown",
   "metadata": {},
   "source": [
    "We will get random $a$ and $b$ and apply our loss function."
   ]
  },
  {
   "cell_type": "code",
   "execution_count": 8,
   "metadata": {},
   "outputs": [
    {
     "name": "stdout",
     "output_type": "stream",
     "text": [
      "tensor([[-1.1674,  2.0340]])\n",
      "tensor([[1., 1., 1., 1.],\n",
      "        [1., 2., 3., 4.]])\n",
      "tensor([3.2000, 5.1000, 6.9000, 9.3000])\n"
     ]
    }
   ],
   "source": [
    "W = torch.randn(1,2)\n",
    "X = torch.tensor([[1.0,1.0,1.0,1.0], x])\n",
    "Y = torch.tensor(y)\n",
    "print(W)\n",
    "print(X)\n",
    "print(Y)"
   ]
  },
  {
   "cell_type": "code",
   "execution_count": 9,
   "metadata": {},
   "outputs": [
    {
     "data": {
      "text/plain": [
       "tensor([[0.8666, 2.9006, 4.9346, 6.9686]])"
      ]
     },
     "execution_count": 9,
     "metadata": {},
     "output_type": "execute_result"
    }
   ],
   "source": [
    "def Y_pred(W, X):\n",
    "     return W.matmul(X) #matrix multiplication\n",
    "Y_pred(W, X)"
   ]
  },
  {
   "cell_type": "code",
   "execution_count": 10,
   "metadata": {},
   "outputs": [
    {
     "data": {
      "text/plain": [
       "tensor(4.8951)"
      ]
     },
     "execution_count": 10,
     "metadata": {},
     "output_type": "execute_result"
    }
   ],
   "source": [
    "def Loss(W, X, Y):\n",
    "    y_pred = Y_pred(W, X)\n",
    "    return ((y_pred-Y)*(y_pred-Y)).mean()\n",
    "Loss(W, X, Y)"
   ]
  },
  {
   "cell_type": "markdown",
   "metadata": {},
   "source": [
    "### 1.3 Minimazing loss function"
   ]
  },
  {
   "cell_type": "markdown",
   "metadata": {},
   "source": [
    "You will find more detailed explanation of what will happen here in the chapter \"Gradient descent\"."
   ]
  },
  {
   "cell_type": "markdown",
   "metadata": {},
   "source": [
    "Since we have defined the loss function, we should minimize it. By doing so we will step by step rotate and move the line, so it will reflect the actual location of data points. In order to do it we need to repeatedly shift the weights till we find a minimum of the loss function. What we need is a mathematical operation that will tell us how the loss function will change, if we increase or decreas $w_0$ and $w_1$. The operation we are looking for is partial derivative."
   ]
  },
  {
   "cell_type": "markdown",
   "metadata": {},
   "source": [
    "$$\\dfrac{\\partial L}{\\partial b} = \\frac{2}{N}\\sum_{i=0}^N (y^{pred}_{i} -y_{i})$$\n",
    "\n",
    "\n",
    "$$\\dfrac{\\partial L}{\\partial a}  = \\frac{2}{N}\\sum_{i=0}^N (y^{pred}_{i} -y_{i}) \\cdot x_{i}$$ "
   ]
  },
  {
   "cell_type": "code",
   "execution_count": 11,
   "metadata": {},
   "outputs": [
    {
     "data": {
      "text/plain": [
       "tensor(-4.4148)"
      ]
     },
     "execution_count": 11,
     "metadata": {},
     "output_type": "execute_result"
    }
   ],
   "source": [
    "def dL_dw0 (W, X, Y):\n",
    "    y_pred = Y_pred(W, X)\n",
    "    return 2*(y_pred - Y).mean()\n",
    "dL_dw0(W, X, Y)"
   ]
  },
  {
   "cell_type": "code",
   "execution_count": 12,
   "metadata": {},
   "outputs": [
    {
     "data": {
      "text/plain": [
       "tensor(-10.9770)"
      ]
     },
     "execution_count": 12,
     "metadata": {},
     "output_type": "execute_result"
    }
   ],
   "source": [
    "def dL_dw1 (W, X, Y):\n",
    "    y_pred = Y_pred(W, X)\n",
    "    return 2*((y_pred - Y)*X[1]).mean()\n",
    "dL_dw1(W, X, Y)"
   ]
  },
  {
   "cell_type": "markdown",
   "metadata": {},
   "source": [
    "Two more thing we have to specify is **learning\\_rate** - hyperparamiter that will define how much the value of the derivative will influance the change of $w_0$ and $w_1$ and **num\\_epochs** - hyperparameter defining how many iterations it will take to sufficiently minimiaze the loss function."
   ]
  },
  {
   "cell_type": "code",
   "execution_count": 13,
   "metadata": {},
   "outputs": [],
   "source": [
    "def gradient_step(W, X, Y, learnig_rate):\n",
    "    W[0][0]-=learnig_rate*dL_dw0(W, X, Y)\n",
    "    W[0][1]-=learnig_rate*dL_dw1(W, X, Y)\n",
    "    return W"
   ]
  },
  {
   "cell_type": "code",
   "execution_count": 14,
   "metadata": {},
   "outputs": [],
   "source": [
    "def minimise_loss_function(W, X, Y, learning_rate, num_epochs):\n",
    "    loss_history = []\n",
    "    for i in range(num_epochs):\n",
    "        W = gradient_step(W, X, Y, learning_rate)\n",
    "        loss_history.append(Loss(W, X, Y))\n",
    "    return W, loss_history"
   ]
  },
  {
   "cell_type": "code",
   "execution_count": 15,
   "metadata": {},
   "outputs": [
    {
     "name": "stdout",
     "output_type": "stream",
     "text": [
      "tensor([[-1.1674,  2.0340]])\n",
      "tensor([[0.4187, 2.2344]]) [tensor(1.2183), tensor(0.7611), tensor(0.5655), tensor(0.5349), tensor(0.4877), tensor(0.4585), tensor(0.4266), tensor(0.3991), tensor(0.3726), tensor(0.3484), tensor(0.3257), tensor(0.3046), tensor(0.2849), tensor(0.2666), tensor(0.2496), tensor(0.2338), tensor(0.2191), tensor(0.2054), tensor(0.1926), tensor(0.1808), tensor(0.1697), tensor(0.1595), tensor(0.1499), tensor(0.1410), tensor(0.1327), tensor(0.1250), tensor(0.1178), tensor(0.1112), tensor(0.1050), tensor(0.0992)]\n"
     ]
    },
    {
     "data": {
      "text/plain": [
       "[<matplotlib.lines.Line2D at 0x7fc377532ac8>]"
      ]
     },
     "execution_count": 15,
     "metadata": {},
     "output_type": "execute_result"
    },
    {
     "data": {
      "image/png": "[encoded data removed]",
      "text/plain": [
       "<Figure size 432x288 with 1 Axes>"
      ]
     },
     "metadata": {
      "needs_background": "light"
     },
     "output_type": "display_data"
    }
   ],
   "source": [
    "print(W)\n",
    "\n",
    "learning_rate = 0.1\n",
    "num_epochs = 30\n",
    "W_trained, loss_history = minimise_loss_function(W, X, Y, learning_rate, num_epochs)\n",
    "\n",
    "print(W_trained, loss_history)\n",
    "plt.plot(list(range(num_epochs)), loss_history)"
   ]
  },
  {
   "cell_type": "code",
   "execution_count": 16,
   "metadata": {},
   "outputs": [
    {
     "data": {
      "image/png": "[encoded data removed]",
      "text/plain": [
       "<Figure size 432x288 with 1 Axes>"
      ]
     },
     "metadata": {
      "needs_background": "light"
     },
     "output_type": "display_data"
    },
    {
     "name": "stdout",
     "output_type": "stream",
     "text": [
      "a = 2.2343745\n",
      "b = 0.41865557\n"
     ]
    }
   ],
   "source": [
    "b = W.numpy()[0][0]\n",
    "a = W.numpy()[0][1]\n",
    "plot_model(b, a, np.array(x), y)"
   ]
  },
  {
   "cell_type": "markdown",
   "metadata": {},
   "source": [
    "And that is how we find the propper line!"
   ]
  },
  {
   "cell_type": "markdown",
   "metadata": {},
   "source": [
    "### 1.4 Linear regression using PyTorch"
   ]
  },
  {
   "cell_type": "markdown",
   "metadata": {},
   "source": [
    "Knowing how linear regression works, let's come back to the relation between body and brain weights. This time we will use built-in PyTorch functions."
   ]
  },
  {
   "cell_type": "markdown",
   "metadata": {},
   "source": [
    "Firstly, we need to prepare the data."
   ]
  },
  {
   "cell_type": "code",
   "execution_count": 17,
   "metadata": {},
   "outputs": [],
   "source": [
    "X = torch.tensor(np.log(data['BodyWeight(kg)']))\n",
    "Y = torch.tensor(np.log(data['BrainWeight(kg)']))\n",
    "X = X.view(1, 27, 1)\n",
    "Y = Y.view(1, 27, 1)"
   ]
  },
  {
   "cell_type": "markdown",
   "metadata": {},
   "source": [
    "Instead of initializing the coefficients manually, we can define the model using a built in class. Since both input and output in the analysed problem have only one dimension we set **(1,1)** as arguments of **nn.Linear**."
   ]
  },
  {
   "cell_type": "code",
   "execution_count": 18,
   "metadata": {},
   "outputs": [
    {
     "name": "stdout",
     "output_type": "stream",
     "text": [
      "Parameter containing:\n",
      "tensor([[0.0088]], requires_grad=True)\n",
      "Parameter containing:\n",
      "tensor([-0.5202], requires_grad=True)\n"
     ]
    }
   ],
   "source": [
    "model = nn.Linear(1, 1)\n",
    "print(model.weight)\n",
    "print(model.bias)"
   ]
  },
  {
   "cell_type": "markdown",
   "metadata": {},
   "source": [
    "Insted of **gradient\\_step** function, we will define an **optimizer** with learning rate and built-int **loss function**."
   ]
  },
  {
   "cell_type": "code",
   "execution_count": 19,
   "metadata": {},
   "outputs": [],
   "source": [
    "optim = torch.optim.SGD(model.parameters(), lr=0.01)"
   ]
  },
  {
   "cell_type": "code",
   "execution_count": 20,
   "metadata": {},
   "outputs": [
    {
     "name": "stdout",
     "output_type": "stream",
     "text": [
      "tensor(12.0268, grad_fn=<MseLossBackward>)\n"
     ]
    }
   ],
   "source": [
    "loss_function = F.mse_loss\n",
    "loss = loss_function(model(X), Y)\n",
    "print(loss)"
   ]
  },
  {
   "cell_type": "markdown",
   "metadata": {},
   "source": [
    "Before training the model, let's see what does the line with random cefficients look like."
   ]
  },
  {
   "cell_type": "code",
   "execution_count": 21,
   "metadata": {},
   "outputs": [
    {
     "data": {
      "image/png": "[encoded data removed]",
      "text/plain": [
       "<Figure size 432x288 with 1 Axes>"
      ]
     },
     "metadata": {
      "needs_background": "light"
     },
     "output_type": "display_data"
    },
    {
     "name": "stdout",
     "output_type": "stream",
     "text": [
      "a = 0.008800506591796875\n",
      "b = -0.52015221118927\n"
     ]
    }
   ],
   "source": [
    "X_viewed = X.view(27)\n",
    "plot_model(model.bias.item(), model.weight.item(), X_viewed.numpy(), Y)"
   ]
  },
  {
   "cell_type": "markdown",
   "metadata": {},
   "source": [
    "Now we can train the model - minimise the loss function."
   ]
  },
  {
   "cell_type": "code",
   "execution_count": 22,
   "metadata": {},
   "outputs": [
    {
     "data": {
      "image/png": "[encoded data removed]",
      "text/plain": [
       "<Figure size 864x576 with 1 Axes>"
      ]
     },
     "metadata": {
      "needs_background": "light"
     },
     "output_type": "display_data"
    },
    {
     "name": "stdout",
     "output_type": "stream",
     "text": [
      "loss:\n",
      "training   (min:    2.760, max:   12.027, cur:    2.760)\n",
      "b = -4.406250476837158\n",
      "a = 0.6343133449554443\n"
     ]
    }
   ],
   "source": [
    "liveloss = PlotLosses()\n",
    "\n",
    "def train(num_epochs, X, Y, model, loss_function, optim):\n",
    "    loss_history = []\n",
    "    preds = torch.tensor([])\n",
    "    for epoch in range(num_epochs):\n",
    "        \n",
    "        epoch_loss = 0.0\n",
    "        \n",
    "        Y_pred = model(X)\n",
    "        loss = loss_function(Y_pred, Y)\n",
    "        \n",
    "        loss.backward()\n",
    "        optim.step()\n",
    "        optim.zero_grad()\n",
    "        \n",
    "        preds = torch.cat([preds, Y_pred], 0)\n",
    "        \n",
    "        epoch_loss = loss.data.item()\n",
    "        \n",
    "        avg_loss = epoch_loss / len(X)\n",
    "\n",
    "        liveloss.update({\n",
    "            'loss': avg_loss\n",
    "        })\n",
    "        liveloss.draw()\n",
    "        print(\"b =\", model.bias[0].item())\n",
    "        print(\"a =\", model.weight[0][0].item())\n",
    "        \n",
    "    return preds\n",
    "\n",
    "predictions = train(201, X, Y, model, loss_function, optim)\n"
   ]
  },
  {
   "cell_type": "markdown",
   "metadata": {},
   "source": [
    "We can see, how the line was changing during learning process:"
   ]
  },
  {
   "cell_type": "code",
   "execution_count": 23,
   "metadata": {},
   "outputs": [
    {
     "data": {
      "image/png": "[encoded data removed]",
      "text/plain": [
       "<Figure size 432x288 with 1 Axes>"
      ]
     },
     "metadata": {
      "needs_background": "light"
     },
     "output_type": "display_data"
    }
   ],
   "source": [
    "X_viewed = X.view(27)\n",
    "predictions = predictions.view([-1, 27])\n",
    "plt.scatter(X, Y)\n",
    "for i in range(predictions.size()[0]):\n",
    "    if i%10 == 0:\n",
    "        plt.plot(X_viewed.numpy(),predictions[i].detach().numpy())\n",
    "    "
   ]
  },
  {
   "cell_type": "markdown",
   "metadata": {},
   "source": [
    "Let's see if we fitted the final line properly!"
   ]
  },
  {
   "cell_type": "code",
   "execution_count": 24,
   "metadata": {},
   "outputs": [
    {
     "data": {
      "image/png": "[encoded data removed]",
      "text/plain": [
       "<Figure size 432x288 with 1 Axes>"
      ]
     },
     "metadata": {
      "needs_background": "light"
     },
     "output_type": "display_data"
    },
    {
     "name": "stdout",
     "output_type": "stream",
     "text": [
      "a = 0.6343133449554443\n",
      "b = -4.406250476837158\n"
     ]
    }
   ],
   "source": [
    "X_viewed = X.view(27)\n",
    "Y_viewed = Y.view(27)\n",
    "plot_model(model.bias.item(), model.weight.item(), X_viewed.numpy(), Y)"
   ]
  },
  {
   "cell_type": "markdown",
   "metadata": {},
   "source": [
    "It fits the data much better than at the begining. We have found the relation between brain and body weights among various animal species."
   ]
  },
  {
   "cell_type": "code",
   "execution_count": 25,
   "metadata": {},
   "outputs": [],
   "source": [
    "predictions_n = predictions[-1].exp().detach().numpy()\n",
    "df = pd.DataFrame({'Species'  : data.index, 'PredictedBrainWeight(kg)': predictions_n})\n",
    "df.index = df[\"Species\"]"
   ]
  },
  {
   "cell_type": "code",
   "execution_count": 26,
   "metadata": {},
   "outputs": [
    {
     "data": {
      "text/html": [
       "<div>\n",
       "<style scoped>\n",
       "    .dataframe tbody tr th:only-of-type {\n",
       "        vertical-align: middle;\n",
       "    }\n",
       "\n",
       "    .dataframe tbody tr th {\n",
       "        vertical-align: top;\n",
       "    }\n",
       "\n",
       "    .dataframe thead th {\n",
       "        text-align: right;\n",
       "    }\n",
       "</style>\n",
       "<table border=\"1\" class=\"dataframe\">\n",
       "  <thead>\n",
       "    <tr style=\"text-align: right;\">\n",
       "      <th></th>\n",
       "      <th>BodyWeight(kg)</th>\n",
       "      <th>BrainWeight(kg)</th>\n",
       "      <th>Brain-to-Body-Weight_Proportion</th>\n",
       "      <th>PredictedBrainWeight(kg)</th>\n",
       "    </tr>\n",
       "    <tr>\n",
       "      <th>Species</th>\n",
       "      <th></th>\n",
       "      <th></th>\n",
       "      <th></th>\n",
       "      <th></th>\n",
       "    </tr>\n",
       "  </thead>\n",
       "  <tbody>\n",
       "    <tr>\n",
       "      <th>Newborn_Human</th>\n",
       "      <td>3.20</td>\n",
       "      <td>0.374985</td>\n",
       "      <td>0.117183</td>\n",
       "      <td>0.025679</td>\n",
       "    </tr>\n",
       "    <tr>\n",
       "      <th>Adult_Human</th>\n",
       "      <td>73.00</td>\n",
       "      <td>1.349982</td>\n",
       "      <td>0.018493</td>\n",
       "      <td>0.185948</td>\n",
       "    </tr>\n",
       "    <tr>\n",
       "      <th>Pithecanthropus_Man</th>\n",
       "      <td>70.00</td>\n",
       "      <td>0.925011</td>\n",
       "      <td>0.013214</td>\n",
       "      <td>0.181073</td>\n",
       "    </tr>\n",
       "    <tr>\n",
       "      <th>Squirrel</th>\n",
       "      <td>0.80</td>\n",
       "      <td>0.007620</td>\n",
       "      <td>0.009525</td>\n",
       "      <td>0.010676</td>\n",
       "    </tr>\n",
       "    <tr>\n",
       "      <th>Hamster</th>\n",
       "      <td>0.15</td>\n",
       "      <td>0.001406</td>\n",
       "      <td>0.009374</td>\n",
       "      <td>0.003700</td>\n",
       "    </tr>\n",
       "    <tr>\n",
       "      <th>Chimpanzee</th>\n",
       "      <td>50.00</td>\n",
       "      <td>0.419981</td>\n",
       "      <td>0.008400</td>\n",
       "      <td>0.146334</td>\n",
       "    </tr>\n",
       "    <tr>\n",
       "      <th>Rabbit</th>\n",
       "      <td>1.40</td>\n",
       "      <td>0.011521</td>\n",
       "      <td>0.008229</td>\n",
       "      <td>0.015215</td>\n",
       "    </tr>\n",
       "    <tr>\n",
       "      <th>Dog_(Beagle)</th>\n",
       "      <td>10.00</td>\n",
       "      <td>0.071985</td>\n",
       "      <td>0.007199</td>\n",
       "      <td>0.052826</td>\n",
       "    </tr>\n",
       "    <tr>\n",
       "      <th>Cat</th>\n",
       "      <td>4.50</td>\n",
       "      <td>0.029982</td>\n",
       "      <td>0.006663</td>\n",
       "      <td>0.031864</td>\n",
       "    </tr>\n",
       "    <tr>\n",
       "      <th>Rat</th>\n",
       "      <td>0.40</td>\n",
       "      <td>0.001996</td>\n",
       "      <td>0.004990</td>\n",
       "      <td>0.006884</td>\n",
       "    </tr>\n",
       "    <tr>\n",
       "      <th>Bottle-Nosed_Dolphin</th>\n",
       "      <td>400.00</td>\n",
       "      <td>1.499985</td>\n",
       "      <td>0.003750</td>\n",
       "      <td>0.545837</td>\n",
       "    </tr>\n",
       "    <tr>\n",
       "      <th>Beaver</th>\n",
       "      <td>24.00</td>\n",
       "      <td>0.044996</td>\n",
       "      <td>0.001875</td>\n",
       "      <td>0.091949</td>\n",
       "    </tr>\n",
       "    <tr>\n",
       "      <th>Gorilla</th>\n",
       "      <td>320.00</td>\n",
       "      <td>0.502490</td>\n",
       "      <td>0.001570</td>\n",
       "      <td>0.473928</td>\n",
       "    </tr>\n",
       "    <tr>\n",
       "      <th>Tiger</th>\n",
       "      <td>170.00</td>\n",
       "      <td>0.263492</td>\n",
       "      <td>0.001550</td>\n",
       "      <td>0.317547</td>\n",
       "    </tr>\n",
       "    <tr>\n",
       "      <th>Owl</th>\n",
       "      <td>1.50</td>\n",
       "      <td>0.002223</td>\n",
       "      <td>0.001482</td>\n",
       "      <td>0.015895</td>\n",
       "    </tr>\n",
       "    <tr>\n",
       "      <th>Camel</th>\n",
       "      <td>550.00</td>\n",
       "      <td>0.761990</td>\n",
       "      <td>0.001385</td>\n",
       "      <td>0.667757</td>\n",
       "    </tr>\n",
       "    <tr>\n",
       "      <th>Elephant</th>\n",
       "      <td>4600.00</td>\n",
       "      <td>5.999984</td>\n",
       "      <td>0.001304</td>\n",
       "      <td>2.561884</td>\n",
       "    </tr>\n",
       "    <tr>\n",
       "      <th>Lion</th>\n",
       "      <td>187.00</td>\n",
       "      <td>0.239996</td>\n",
       "      <td>0.001283</td>\n",
       "      <td>0.337296</td>\n",
       "    </tr>\n",
       "    <tr>\n",
       "      <th>Sheep</th>\n",
       "      <td>120.00</td>\n",
       "      <td>0.139979</td>\n",
       "      <td>0.001166</td>\n",
       "      <td>0.254709</td>\n",
       "    </tr>\n",
       "    <tr>\n",
       "      <th>Walrus</th>\n",
       "      <td>800.00</td>\n",
       "      <td>0.925011</td>\n",
       "      <td>0.001156</td>\n",
       "      <td>0.846519</td>\n",
       "    </tr>\n",
       "    <tr>\n",
       "      <th>Horse</th>\n",
       "      <td>450.00</td>\n",
       "      <td>0.502490</td>\n",
       "      <td>0.001117</td>\n",
       "      <td>0.588094</td>\n",
       "    </tr>\n",
       "    <tr>\n",
       "      <th>Cow</th>\n",
       "      <td>700.00</td>\n",
       "      <td>0.441481</td>\n",
       "      <td>0.000631</td>\n",
       "      <td>0.777899</td>\n",
       "    </tr>\n",
       "    <tr>\n",
       "      <th>Giraffe</th>\n",
       "      <td>950.00</td>\n",
       "      <td>0.532018</td>\n",
       "      <td>0.000560</td>\n",
       "      <td>0.943811</td>\n",
       "    </tr>\n",
       "    <tr>\n",
       "      <th>Green_Lizard</th>\n",
       "      <td>0.20</td>\n",
       "      <td>0.000091</td>\n",
       "      <td>0.000454</td>\n",
       "      <td>0.004439</td>\n",
       "    </tr>\n",
       "    <tr>\n",
       "      <th>Sperm_Whale</th>\n",
       "      <td>35000.00</td>\n",
       "      <td>7.799974</td>\n",
       "      <td>0.000223</td>\n",
       "      <td>9.257441</td>\n",
       "    </tr>\n",
       "    <tr>\n",
       "      <th>Turtle</th>\n",
       "      <td>3.00</td>\n",
       "      <td>0.000318</td>\n",
       "      <td>0.000106</td>\n",
       "      <td>0.024651</td>\n",
       "    </tr>\n",
       "    <tr>\n",
       "      <th>Alligator</th>\n",
       "      <td>270.00</td>\n",
       "      <td>0.008391</td>\n",
       "      <td>0.000031</td>\n",
       "      <td>0.425599</td>\n",
       "    </tr>\n",
       "  </tbody>\n",
       "</table>\n",
       "</div>"
      ],
      "text/plain": [
       "                      BodyWeight(kg)  BrainWeight(kg)  \\\n",
       "Species                                                 \n",
       "Newborn_Human                   3.20         0.374985   \n",
       "Adult_Human                    73.00         1.349982   \n",
       "Pithecanthropus_Man            70.00         0.925011   \n",
       "Squirrel                        0.80         0.007620   \n",
       "Hamster                         0.15         0.001406   \n",
       "Chimpanzee                     50.00         0.419981   \n",
       "Rabbit                          1.40         0.011521   \n",
       "Dog_(Beagle)                   10.00         0.071985   \n",
       "Cat                             4.50         0.029982   \n",
       "Rat                             0.40         0.001996   \n",
       "Bottle-Nosed_Dolphin          400.00         1.499985   \n",
       "Beaver                         24.00         0.044996   \n",
       "Gorilla                       320.00         0.502490   \n",
       "Tiger                         170.00         0.263492   \n",
       "Owl                             1.50         0.002223   \n",
       "Camel                         550.00         0.761990   \n",
       "Elephant                     4600.00         5.999984   \n",
       "Lion                          187.00         0.239996   \n",
       "Sheep                         120.00         0.139979   \n",
       "Walrus                        800.00         0.925011   \n",
       "Horse                         450.00         0.502490   \n",
       "Cow                           700.00         0.441481   \n",
       "Giraffe                       950.00         0.532018   \n",
       "Green_Lizard                    0.20         0.000091   \n",
       "Sperm_Whale                 35000.00         7.799974   \n",
       "Turtle                          3.00         0.000318   \n",
       "Alligator                     270.00         0.008391   \n",
       "\n",
       "                      Brain-to-Body-Weight_Proportion  \\\n",
       "Species                                                 \n",
       "Newborn_Human                                0.117183   \n",
       "Adult_Human                                  0.018493   \n",
       "Pithecanthropus_Man                          0.013214   \n",
       "Squirrel                                     0.009525   \n",
       "Hamster                                      0.009374   \n",
       "Chimpanzee                                   0.008400   \n",
       "Rabbit                                       0.008229   \n",
       "Dog_(Beagle)                                 0.007199   \n",
       "Cat                                          0.006663   \n",
       "Rat                                          0.004990   \n",
       "Bottle-Nosed_Dolphin                         0.003750   \n",
       "Beaver                                       0.001875   \n",
       "Gorilla                                      0.001570   \n",
       "Tiger                                        0.001550   \n",
       "Owl                                          0.001482   \n",
       "Camel                                        0.001385   \n",
       "Elephant                                     0.001304   \n",
       "Lion                                         0.001283   \n",
       "Sheep                                        0.001166   \n",
       "Walrus                                       0.001156   \n",
       "Horse                                        0.001117   \n",
       "Cow                                          0.000631   \n",
       "Giraffe                                      0.000560   \n",
       "Green_Lizard                                 0.000454   \n",
       "Sperm_Whale                                  0.000223   \n",
       "Turtle                                       0.000106   \n",
       "Alligator                                    0.000031   \n",
       "\n",
       "                      PredictedBrainWeight(kg)  \n",
       "Species                                         \n",
       "Newborn_Human                         0.025679  \n",
       "Adult_Human                           0.185948  \n",
       "Pithecanthropus_Man                   0.181073  \n",
       "Squirrel                              0.010676  \n",
       "Hamster                               0.003700  \n",
       "Chimpanzee                            0.146334  \n",
       "Rabbit                                0.015215  \n",
       "Dog_(Beagle)                          0.052826  \n",
       "Cat                                   0.031864  \n",
       "Rat                                   0.006884  \n",
       "Bottle-Nosed_Dolphin                  0.545837  \n",
       "Beaver                                0.091949  \n",
       "Gorilla                               0.473928  \n",
       "Tiger                                 0.317547  \n",
       "Owl                                   0.015895  \n",
       "Camel                                 0.667757  \n",
       "Elephant                              2.561884  \n",
       "Lion                                  0.337296  \n",
       "Sheep                                 0.254709  \n",
       "Walrus                                0.846519  \n",
       "Horse                                 0.588094  \n",
       "Cow                                   0.777899  \n",
       "Giraffe                               0.943811  \n",
       "Green_Lizard                          0.004439  \n",
       "Sperm_Whale                           9.257441  \n",
       "Turtle                                0.024651  \n",
       "Alligator                             0.425599  "
      ]
     },
     "execution_count": 26,
     "metadata": {},
     "output_type": "execute_result"
    }
   ],
   "source": [
    "data_p = pd.concat([data, df['PredictedBrainWeight(kg)']], axis=1)\n",
    "data_p"
   ]
  },
  {
   "cell_type": "markdown",
   "metadata": {},
   "source": [
    "We can now compare predicted brain weights with actual data. What does it mean that the actual brain weight is bigger than predicted one? Is an animal more clever in that case?"
   ]
  },
  {
   "cell_type": "markdown",
   "metadata": {},
   "source": [
    "### 1.5 Homework"
   ]
  },
  {
   "cell_type": "markdown",
   "metadata": {},
   "source": [
    "If you want to practice linear regression, here is another dataset. It describes the relation between weight and average heart rate of various animals. \n",
    "\n",
    "(Tip: try to scale the data, by taking logarithm of both values)"
   ]
  },
  {
   "cell_type": "code",
   "execution_count": 27,
   "metadata": {},
   "outputs": [
    {
     "data": {
      "text/html": [
       "<div>\n",
       "<style scoped>\n",
       "    .dataframe tbody tr th:only-of-type {\n",
       "        vertical-align: middle;\n",
       "    }\n",
       "\n",
       "    .dataframe tbody tr th {\n",
       "        vertical-align: top;\n",
       "    }\n",
       "\n",
       "    .dataframe thead th {\n",
       "        text-align: right;\n",
       "    }\n",
       "</style>\n",
       "<table border=\"1\" class=\"dataframe\">\n",
       "  <thead>\n",
       "    <tr style=\"text-align: right;\">\n",
       "      <th></th>\n",
       "      <th>Average Heart Rate\n",
       "(beats per \n",
       "minute)</th>\n",
       "      <th>Weight\n",
       "(grams)</th>\n",
       "    </tr>\n",
       "    <tr>\n",
       "      <th>Creature</th>\n",
       "      <th></th>\n",
       "      <th></th>\n",
       "    </tr>\n",
       "  </thead>\n",
       "  <tbody>\n",
       "    <tr>\n",
       "      <th>Human</th>\n",
       "      <td>60</td>\n",
       "      <td>90000</td>\n",
       "    </tr>\n",
       "    <tr>\n",
       "      <th>Cat</th>\n",
       "      <td>150</td>\n",
       "      <td>2000</td>\n",
       "    </tr>\n",
       "    <tr>\n",
       "      <th>Small dog</th>\n",
       "      <td>100</td>\n",
       "      <td>2000</td>\n",
       "    </tr>\n",
       "    <tr>\n",
       "      <th>Medium dog</th>\n",
       "      <td>90</td>\n",
       "      <td>5000</td>\n",
       "    </tr>\n",
       "    <tr>\n",
       "      <th>Large dogs:</th>\n",
       "      <td>75</td>\n",
       "      <td>8000</td>\n",
       "    </tr>\n",
       "    <tr>\n",
       "      <th>Hamster</th>\n",
       "      <td>450</td>\n",
       "      <td>60</td>\n",
       "    </tr>\n",
       "    <tr>\n",
       "      <th>Chick</th>\n",
       "      <td>400</td>\n",
       "      <td>50</td>\n",
       "    </tr>\n",
       "    <tr>\n",
       "      <th>Chicken</th>\n",
       "      <td>275</td>\n",
       "      <td>1500</td>\n",
       "    </tr>\n",
       "    <tr>\n",
       "      <th>Monkey</th>\n",
       "      <td>192</td>\n",
       "      <td>5000</td>\n",
       "    </tr>\n",
       "    <tr>\n",
       "      <th>Horse</th>\n",
       "      <td>44</td>\n",
       "      <td>1200000</td>\n",
       "    </tr>\n",
       "    <tr>\n",
       "      <th>Cow</th>\n",
       "      <td>65</td>\n",
       "      <td>800000</td>\n",
       "    </tr>\n",
       "    <tr>\n",
       "      <th>Pig</th>\n",
       "      <td>70</td>\n",
       "      <td>150000</td>\n",
       "    </tr>\n",
       "    <tr>\n",
       "      <th>Rabbit</th>\n",
       "      <td>205</td>\n",
       "      <td>1000</td>\n",
       "    </tr>\n",
       "    <tr>\n",
       "      <th>elephant</th>\n",
       "      <td>30</td>\n",
       "      <td>5000000</td>\n",
       "    </tr>\n",
       "    <tr>\n",
       "      <th>giraffe</th>\n",
       "      <td>65</td>\n",
       "      <td>900000</td>\n",
       "    </tr>\n",
       "    <tr>\n",
       "      <th>large whales</th>\n",
       "      <td>20</td>\n",
       "      <td>120000000</td>\n",
       "    </tr>\n",
       "  </tbody>\n",
       "</table>\n",
       "</div>"
      ],
      "text/plain": [
       "              Average Heart Rate\\n(beats per \\nminute)  Weight\\n(grams)\n",
       "Creature                                                               \n",
       "Human                                               60            90000\n",
       "Cat                                                150             2000\n",
       "Small dog                                          100             2000\n",
       "Medium dog                                          90             5000\n",
       "Large dogs:                                         75             8000\n",
       "Hamster                                            450               60\n",
       "Chick                                              400               50\n",
       "Chicken                                            275             1500\n",
       "Monkey                                             192             5000\n",
       "Horse                                               44          1200000\n",
       "Cow                                                 65           800000\n",
       "Pig                                                 70           150000\n",
       "Rabbit                                             205             1000\n",
       "elephant                                            30          5000000\n",
       "giraffe                                             65           900000\n",
       "large whales                                        20        120000000"
      ]
     },
     "execution_count": 27,
     "metadata": {},
     "output_type": "execute_result"
    }
   ],
   "source": [
    "data2 = pd.read_csv(\"data/Heart_rate_and_weight.csv\", index_col=0)\n",
    "data2"
   ]
  },
  {
   "cell_type": "markdown",
   "metadata": {},
   "source": [
    "### Here are some interesting websites on the subject of linear regression:"
   ]
  },
  {
   "cell_type": "markdown",
   "metadata": {},
   "source": [
    "\n",
    "* [Linear regression](http://www.stat.yale.edu/Courses/1997-98/101/linreg.htm)\n",
    "* [Ordinary Least Squares Regression-Explained Visually](http://setosa.io/ev/ordinary-least-squares-regression/)\n",
    "* [Pearson correlation coefficient](https://en.wikipedia.org/wiki/Pearson_correlation_coefficient)\n"
   ]
  }
 ],
 "metadata": {
  "kernelspec": {
   "display_name": "Python 3",
   "language": "python",
   "name": "python3"
  },
  "language_info": {
   "codemirror_mode": {
    "name": "ipython",
    "version": 3
   },
   "file_extension": ".py",
   "mimetype": "text/x-python",
   "name": "python",
   "nbconvert_exporter": "python",
   "pygments_lexer": "ipython3",
   "version": "3.6.7"
  }
 },
 "nbformat": 4,
 "nbformat_minor": 2
}
