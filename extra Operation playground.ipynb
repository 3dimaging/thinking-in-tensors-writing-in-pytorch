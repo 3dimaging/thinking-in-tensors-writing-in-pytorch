{
 "cells": [
  {
   "cell_type": "markdown",
   "metadata": {},
   "source": [
    "# Thinking in tensors\n",
    "\n",
    "A hands-on training  by [Piotr Migdał](https://p.migdal.pl) (2019)\n",
    "\n",
    "\n",
    "## Extra notebook: Operation playground "
   ]
  },
  {
   "cell_type": "code",
   "execution_count": 2,
   "metadata": {},
   "outputs": [],
   "source": [
    "import matplotlib.pyplot as plt\n",
    "import numpy as np\n",
    "\n",
    "import torch\n",
    "from torch import nn\n",
    "from torch.nn import functional as F"
   ]
  },
  {
   "cell_type": "markdown",
   "metadata": {},
   "source": [
    "## What is a neuron"
   ]
  },
  {
   "cell_type": "code",
   "execution_count": 3,
   "metadata": {},
   "outputs": [],
   "source": [
    "x_in = torch.tensor([0.5, -1., 3.])\n",
    "A_single = torch.tensor([[1.], [1.], [0.]])"
   ]
  },
  {
   "cell_type": "code",
   "execution_count": 5,
   "metadata": {},
   "outputs": [
    {
     "data": {
      "text/plain": [
       "tensor([-0.5000])"
      ]
     },
     "execution_count": 5,
     "metadata": {},
     "output_type": "execute_result"
    }
   ],
   "source": [
    "x_in.matmul(A_single)"
   ]
  },
  {
   "cell_type": "code",
   "execution_count": 6,
   "metadata": {},
   "outputs": [
    {
     "data": {
      "text/plain": [
       "tensor([-0.5000, -0.7000])"
      ]
     },
     "execution_count": 6,
     "metadata": {},
     "output_type": "execute_result"
    }
   ],
   "source": [
    "A_layer = torch.tensor([[1., 0.2], [1., 0.5], [0., -.1]])\n",
    "x_in.matmul(A_layer)"
   ]
  },
  {
   "cell_type": "code",
   "execution_count": 7,
   "metadata": {},
   "outputs": [],
   "source": [
    "A_layer_2 = torch.tensor([[1.], [-1.]])"
   ]
  },
  {
   "cell_type": "code",
   "execution_count": 8,
   "metadata": {},
   "outputs": [
    {
     "data": {
      "text/plain": [
       "tensor([0.2000])"
      ]
     },
     "execution_count": 8,
     "metadata": {},
     "output_type": "execute_result"
    }
   ],
   "source": [
    "x_in.matmul(A_layer).matmul(A_layer_2)"
   ]
  },
  {
   "cell_type": "code",
   "execution_count": 9,
   "metadata": {},
   "outputs": [
    {
     "data": {
      "text/plain": [
       "tensor([0.5114])"
      ]
     },
     "execution_count": 9,
     "metadata": {},
     "output_type": "execute_result"
    }
   ],
   "source": [
    "x_in.matmul(A_layer).sigmoid().matmul(A_layer_2).sigmoid()"
   ]
  },
  {
   "cell_type": "code",
   "execution_count": 10,
   "metadata": {},
   "outputs": [],
   "source": [
    "z = torch.tensor([0.5, -2., 1.5])"
   ]
  },
  {
   "cell_type": "code",
   "execution_count": 12,
   "metadata": {},
   "outputs": [
    {
     "data": {
      "text/plain": [
       "(tensor(1.5000), tensor(2))"
      ]
     },
     "execution_count": 12,
     "metadata": {},
     "output_type": "execute_result"
    }
   ],
   "source": [
    "z.max(dim=0)"
   ]
  },
  {
   "cell_type": "code",
   "execution_count": 14,
   "metadata": {},
   "outputs": [
    {
     "data": {
      "text/plain": [
       "tensor([0.2631, 0.0216, 0.7153])"
      ]
     },
     "execution_count": 14,
     "metadata": {},
     "output_type": "execute_result"
    }
   ],
   "source": [
    "z.exp() / z.exp().sum()"
   ]
  },
  {
   "cell_type": "code",
   "execution_count": 15,
   "metadata": {},
   "outputs": [
    {
     "data": {
      "text/plain": [
       "tensor([0.2631, 0.0216, 0.7153])"
      ]
     },
     "execution_count": 15,
     "metadata": {},
     "output_type": "execute_result"
    }
   ],
   "source": [
    "F.softmax(z, dim=0)"
   ]
  },
  {
   "cell_type": "markdown",
   "metadata": {},
   "source": [
    "And now, with `torch.nn` module."
   ]
  },
  {
   "cell_type": "code",
   "execution_count": 16,
   "metadata": {},
   "outputs": [
    {
     "data": {
      "text/plain": [
       "tensor([[[[-0.4769,  0.9649,  0.2862,  0.9352],\n",
       "          [-1.0658, -0.7420, -0.6432, -1.0337],\n",
       "          [-0.7172,  1.0769,  1.2858,  0.1496],\n",
       "          [ 0.1149, -0.3891,  0.5113, -0.8105]]],\n",
       "\n",
       "\n",
       "        [[[ 0.2784,  1.0272, -0.9411,  1.1669],\n",
       "          [-0.2463,  0.6799, -1.3384,  0.1237],\n",
       "          [ 0.5660, -0.9319, -1.5056, -0.6326],\n",
       "          [-0.5619, -0.0836, -0.8017,  1.1799]]]])"
      ]
     },
     "execution_count": 16,
     "metadata": {},
     "output_type": "execute_result"
    }
   ],
   "source": [
    "x = torch.randn(2, 1, 4, 4)\n",
    "x"
   ]
  },
  {
   "cell_type": "markdown",
   "metadata": {},
   "source": [
    "## Flatten"
   ]
  },
  {
   "cell_type": "code",
   "execution_count": 17,
   "metadata": {},
   "outputs": [
    {
     "data": {
      "text/plain": [
       "tensor([[-0.4769,  0.9649,  0.2862,  0.9352, -1.0658, -0.7420, -0.6432, -1.0337,\n",
       "         -0.7172,  1.0769,  1.2858,  0.1496,  0.1149, -0.3891,  0.5113, -0.8105],\n",
       "        [ 0.2784,  1.0272, -0.9411,  1.1669, -0.2463,  0.6799, -1.3384,  0.1237,\n",
       "          0.5660, -0.9319, -1.5056, -0.6326, -0.5619, -0.0836, -0.8017,  1.1799]])"
      ]
     },
     "execution_count": 17,
     "metadata": {},
     "output_type": "execute_result"
    }
   ],
   "source": [
    "x.view(x.size(0), -1)"
   ]
  },
  {
   "cell_type": "markdown",
   "metadata": {},
   "source": [
    "## Activation functions\n",
    "\n",
    "* Element-wise"
   ]
  },
  {
   "cell_type": "code",
   "execution_count": 18,
   "metadata": {},
   "outputs": [
    {
     "data": {
      "text/plain": [
       "tensor([[[[0.0000, 0.9649, 0.2862, 0.9352],\n",
       "          [0.0000, 0.0000, 0.0000, 0.0000],\n",
       "          [0.0000, 1.0769, 1.2858, 0.1496],\n",
       "          [0.1149, 0.0000, 0.5113, 0.0000]]],\n",
       "\n",
       "\n",
       "        [[[0.2784, 1.0272, 0.0000, 1.1669],\n",
       "          [0.0000, 0.6799, 0.0000, 0.1237],\n",
       "          [0.5660, 0.0000, 0.0000, 0.0000],\n",
       "          [0.0000, 0.0000, 0.0000, 1.1799]]]])"
      ]
     },
     "execution_count": 18,
     "metadata": {},
     "output_type": "execute_result"
    }
   ],
   "source": [
    "x.relu()"
   ]
  },
  {
   "cell_type": "code",
   "execution_count": 19,
   "metadata": {},
   "outputs": [
    {
     "data": {
      "text/plain": [
       "tensor([[[[0.0000, 0.9649, 0.2862, 0.9352],\n",
       "          [0.0000, 0.0000, 0.0000, 0.0000],\n",
       "          [0.0000, 1.0769, 1.2858, 0.1496],\n",
       "          [0.1149, 0.0000, 0.5113, 0.0000]]],\n",
       "\n",
       "\n",
       "        [[[0.2784, 1.0272, 0.0000, 1.1669],\n",
       "          [0.0000, 0.6799, 0.0000, 0.1237],\n",
       "          [0.5660, 0.0000, 0.0000, 0.0000],\n",
       "          [0.0000, 0.0000, 0.0000, 1.1799]]]])"
      ]
     },
     "execution_count": 19,
     "metadata": {},
     "output_type": "execute_result"
    }
   ],
   "source": [
    "F.relu(x)"
   ]
  },
  {
   "cell_type": "code",
   "execution_count": 20,
   "metadata": {},
   "outputs": [
    {
     "data": {
      "text/plain": [
       "tensor([[[[0.0000, 0.9649, 0.2862, 0.9352],\n",
       "          [0.0000, 0.0000, 0.0000, 0.0000],\n",
       "          [0.0000, 1.0769, 1.2858, 0.1496],\n",
       "          [0.1149, 0.0000, 0.5113, 0.0000]]],\n",
       "\n",
       "\n",
       "        [[[0.2784, 1.0272, 0.0000, 1.1669],\n",
       "          [0.0000, 0.6799, 0.0000, 0.1237],\n",
       "          [0.5660, 0.0000, 0.0000, 0.0000],\n",
       "          [0.0000, 0.0000, 0.0000, 1.1799]]]])"
      ]
     },
     "execution_count": 20,
     "metadata": {},
     "output_type": "execute_result"
    }
   ],
   "source": [
    "relu = nn.ReLU()\n",
    "relu(x)"
   ]
  },
  {
   "cell_type": "code",
   "execution_count": 21,
   "metadata": {},
   "outputs": [],
   "source": [
    "X = torch.arange(-3, 3, step=0.2)"
   ]
  },
  {
   "cell_type": "code",
   "execution_count": 22,
   "metadata": {},
   "outputs": [
    {
     "data": {
      "text/plain": [
       "<matplotlib.legend.Legend at 0x12a370860>"
      ]
     },
     "execution_count": 22,
     "metadata": {},
     "output_type": "execute_result"
    },
    {
     "data": {
      "image/png": "[encoded data removed]",
      "text/plain": [
       "<matplotlib.figure.Figure at 0x127ad2cf8>"
      ]
     },
     "metadata": {
      "needs_background": "light"
     },
     "output_type": "display_data"
    }
   ],
   "source": [
    "plt.plot(X.numpy(), X.relu().numpy(), label=\"ReLU\")\n",
    "plt.plot(X.numpy(), X.sigmoid().numpy(), label=\"Sigmoid\")\n",
    "plt.plot(X.numpy(), X.tanh().numpy(), label=\"Tanh\")\n",
    "plt.ylim([-1.5, 1.5])\n",
    "plt.legend()"
   ]
  },
  {
   "cell_type": "markdown",
   "metadata": {},
   "source": [
    "## Pooling operation"
   ]
  },
  {
   "cell_type": "code",
   "execution_count": 24,
   "metadata": {},
   "outputs": [
    {
     "data": {
      "text/plain": [
       "tensor([[[[-0.4769,  0.9649,  0.2862,  0.9352],\n",
       "          [-1.0658, -0.7420, -0.6432, -1.0337],\n",
       "          [-0.7172,  1.0769,  1.2858,  0.1496],\n",
       "          [ 0.1149, -0.3891,  0.5113, -0.8105]]],\n",
       "\n",
       "\n",
       "        [[[ 0.2784,  1.0272, -0.9411,  1.1669],\n",
       "          [-0.2463,  0.6799, -1.3384,  0.1237],\n",
       "          [ 0.5660, -0.9319, -1.5056, -0.6326],\n",
       "          [-0.5619, -0.0836, -0.8017,  1.1799]]]])"
      ]
     },
     "execution_count": 24,
     "metadata": {},
     "output_type": "execute_result"
    }
   ],
   "source": [
    "x"
   ]
  },
  {
   "cell_type": "code",
   "execution_count": 23,
   "metadata": {},
   "outputs": [
    {
     "data": {
      "text/plain": [
       "tensor([[[[0.9649, 0.9352],\n",
       "          [1.0769, 1.2858]]],\n",
       "\n",
       "\n",
       "        [[[1.0272, 1.1669],\n",
       "          [0.5660, 1.1799]]]])"
      ]
     },
     "execution_count": 23,
     "metadata": {},
     "output_type": "execute_result"
    }
   ],
   "source": [
    "maxpool = nn.MaxPool2d((2, 2))\n",
    "maxpool(x)"
   ]
  },
  {
   "cell_type": "code",
   "execution_count": 25,
   "metadata": {},
   "outputs": [
    {
     "data": {
      "text/plain": [
       "tensor([[[[-0.3300, -0.1139],\n",
       "          [ 0.0214,  0.2840]]],\n",
       "\n",
       "\n",
       "        [[[ 0.4348, -0.2472],\n",
       "          [-0.2528, -0.4400]]]])"
      ]
     },
     "execution_count": 25,
     "metadata": {},
     "output_type": "execute_result"
    }
   ],
   "source": [
    "avgpool = nn.AvgPool2d((2, 2))\n",
    "avgpool(x)"
   ]
  },
  {
   "cell_type": "markdown",
   "metadata": {},
   "source": [
    "## Convolutions"
   ]
  },
  {
   "cell_type": "code",
   "execution_count": 26,
   "metadata": {},
   "outputs": [
    {
     "data": {
      "text/plain": [
       "tensor([[[[-0.1205,  0.3944],\n",
       "          [ 0.0101, -0.9426]]],\n",
       "\n",
       "\n",
       "        [[[-0.8160, -0.6141],\n",
       "          [-1.5594, -0.0049]]]], grad_fn=<MkldnnConvolutionBackward>)"
      ]
     },
     "execution_count": 26,
     "metadata": {},
     "output_type": "execute_result"
    }
   ],
   "source": [
    "conv = nn.Conv2d(in_channels=1, out_channels=1, kernel_size=3)\n",
    "conv(x)"
   ]
  },
  {
   "cell_type": "code",
   "execution_count": null,
   "metadata": {},
   "outputs": [],
   "source": []
  },
  {
   "cell_type": "code",
   "execution_count": 28,
   "metadata": {},
   "outputs": [
    {
     "data": {
      "text/plain": [
       "tensor([[[[ 0.1028,  0.3170, -0.0228,  0.2994],\n",
       "          [ 0.5193,  0.5356,  0.7956,  0.5221],\n",
       "          [-0.5471, -0.3436, -0.2453,  0.0140],\n",
       "          [ 0.4891,  0.6727,  0.8158,  0.0926]],\n",
       "\n",
       "         [[ 0.2662,  0.3773,  0.2300,  0.5992],\n",
       "          [ 0.6742,  0.2845, -0.3790, -0.1358],\n",
       "          [ 0.2574,  0.7301,  0.3012,  0.6628],\n",
       "          [ 0.2863,  0.1074, -0.0549,  0.0350]]],\n",
       "\n",
       "\n",
       "        [[[-0.1433,  0.6171, -0.1303,  0.2843],\n",
       "          [ 0.3996,  0.9865,  0.2698,  0.6738],\n",
       "          [ 0.7464,  0.4818,  0.0997,  0.3126],\n",
       "          [ 0.1084, -0.1064, -0.6209,  0.3206]],\n",
       "\n",
       "         [[ 0.4634, -0.1536,  0.4951,  0.3673],\n",
       "          [-0.2502, -0.0347,  0.4041,  0.4971],\n",
       "          [ 0.3915,  0.1892,  0.7469,  0.1638],\n",
       "          [ 0.2230,  0.3886,  0.5597,  0.5635]]]],\n",
       "       grad_fn=<MkldnnConvolutionBackward>)"
      ]
     },
     "execution_count": 28,
     "metadata": {},
     "output_type": "execute_result"
    }
   ],
   "source": [
    "conv = nn.Conv2d(in_channels=1, out_channels=2, kernel_size=3, padding=1)\n",
    "conv(x)"
   ]
  },
  {
   "cell_type": "code",
   "execution_count": 29,
   "metadata": {},
   "outputs": [
    {
     "data": {
      "text/plain": [
       "tensor([[[[ 0.7881,  0.7881,  0.7881,  0.7881,  0.7881,  0.7881],\n",
       "          [ 0.7881,  0.5062,  1.3585,  0.9573,  1.3409,  0.7881],\n",
       "          [ 0.7881,  0.1581,  0.3495,  0.4079,  0.1771,  0.7881],\n",
       "          [ 0.7881,  0.3642,  1.4247,  1.5481,  0.8765,  0.7881],\n",
       "          [ 0.7881,  0.8561,  0.5582,  1.0904,  0.3091,  0.7881],\n",
       "          [ 0.7881,  0.7881,  0.7881,  0.7881,  0.7881,  0.7881]]],\n",
       "\n",
       "\n",
       "        [[[ 0.7881,  0.7881,  0.7881,  0.7881,  0.7881,  0.7881],\n",
       "          [ 0.7881,  0.9527,  1.3953,  0.2318,  1.4779,  0.7881],\n",
       "          [ 0.7881,  0.6425,  1.1900, -0.0030,  0.8612,  0.7881],\n",
       "          [ 0.7881,  1.1227,  0.2373, -0.1018,  0.4142,  0.7881],\n",
       "          [ 0.7881,  0.4560,  0.7387,  0.3142,  1.4856,  0.7881],\n",
       "          [ 0.7881,  0.7881,  0.7881,  0.7881,  0.7881,  0.7881]]]],\n",
       "       grad_fn=<MkldnnConvolutionBackward>)"
      ]
     },
     "execution_count": 29,
     "metadata": {},
     "output_type": "execute_result"
    }
   ],
   "source": [
    "conv = nn.Conv2d(in_channels=1, out_channels=1, kernel_size=1, padding=1)\n",
    "conv(x)"
   ]
  },
  {
   "cell_type": "markdown",
   "metadata": {},
   "source": [
    "## Dropout\n",
    "\n",
    "During the training phase it \"switches off\" randomly a fraction of neurons. This prevents network from relaying only on a few neurons.S\n",
    "\n",
    "See:\n",
    "* [Dropout: A Simple Way to Prevent Neural Networks from Overfitting](http://jmlr.org/papers/volume15/srivastava14a.old/srivastava14a.pdf)\n",
    "* [torch.nn.Dropout](https://pytorch.org/docs/stable/nn.html#dropout-layers)"
   ]
  },
  {
   "cell_type": "code",
   "execution_count": 30,
   "metadata": {},
   "outputs": [],
   "source": [
    "dropout = nn.Dropout(p=0.5)"
   ]
  },
  {
   "cell_type": "code",
   "execution_count": 33,
   "metadata": {},
   "outputs": [
    {
     "data": {
      "text/plain": [
       "tensor([[[[-0.9539,  0.0000,  0.5724,  1.8704],\n",
       "          [-2.1316, -0.0000, -0.0000, -2.0674],\n",
       "          [-0.0000,  0.0000,  0.0000,  0.0000],\n",
       "          [ 0.0000, -0.7781,  0.0000, -0.0000]]],\n",
       "\n",
       "\n",
       "        [[[ 0.0000,  2.0543, -0.0000,  0.0000],\n",
       "          [-0.4926,  1.3598, -0.0000,  0.0000],\n",
       "          [ 1.1320, -0.0000, -0.0000, -0.0000],\n",
       "          [-1.1238, -0.0000, -1.6035,  0.0000]]]])"
      ]
     },
     "execution_count": 33,
     "metadata": {},
     "output_type": "execute_result"
    }
   ],
   "source": [
    "dropout(x)"
   ]
  },
  {
   "cell_type": "code",
   "execution_count": 34,
   "metadata": {},
   "outputs": [
    {
     "data": {
      "text/plain": [
       "Dropout(p=0.5)"
      ]
     },
     "execution_count": 34,
     "metadata": {},
     "output_type": "execute_result"
    }
   ],
   "source": [
    "dropout.eval()"
   ]
  },
  {
   "cell_type": "code",
   "execution_count": 35,
   "metadata": {},
   "outputs": [
    {
     "data": {
      "text/plain": [
       "tensor([[[[-0.4769,  0.9649,  0.2862,  0.9352],\n",
       "          [-1.0658, -0.7420, -0.6432, -1.0337],\n",
       "          [-0.7172,  1.0769,  1.2858,  0.1496],\n",
       "          [ 0.1149, -0.3891,  0.5113, -0.8105]]],\n",
       "\n",
       "\n",
       "        [[[ 0.2784,  1.0272, -0.9411,  1.1669],\n",
       "          [-0.2463,  0.6799, -1.3384,  0.1237],\n",
       "          [ 0.5660, -0.9319, -1.5056, -0.6326],\n",
       "          [-0.5619, -0.0836, -0.8017,  1.1799]]]])"
      ]
     },
     "execution_count": 35,
     "metadata": {},
     "output_type": "execute_result"
    }
   ],
   "source": [
    "dropout(x)"
   ]
  },
  {
   "cell_type": "markdown",
   "metadata": {},
   "source": [
    "## Batch norm"
   ]
  },
  {
   "cell_type": "code",
   "execution_count": 36,
   "metadata": {},
   "outputs": [],
   "source": [
    "bn = nn.BatchNorm2d(num_features=1)"
   ]
  },
  {
   "cell_type": "code",
   "execution_count": 37,
   "metadata": {},
   "outputs": [
    {
     "data": {
      "text/plain": [
       "tensor([[[[-0.0286,  0.0755,  0.0265,  0.0733],\n",
       "          [-0.0711, -0.0478, -0.0406, -0.0688],\n",
       "          [-0.0460,  0.0836,  0.0986,  0.0166],\n",
       "          [ 0.0141, -0.0223,  0.0427, -0.0527]]],\n",
       "\n",
       "\n",
       "        [[[ 0.0259,  0.0800, -0.0621,  0.0901],\n",
       "          [-0.0120,  0.0549, -0.0908,  0.0147],\n",
       "          [ 0.0467, -0.0615, -0.1029, -0.0399],\n",
       "          [-0.0348, -0.0002, -0.0521,  0.0910]]]],\n",
       "       grad_fn=<NativeBatchNormBackward>)"
      ]
     },
     "execution_count": 37,
     "metadata": {},
     "output_type": "execute_result"
    }
   ],
   "source": [
    "bn(x)"
   ]
  },
  {
   "cell_type": "code",
   "execution_count": 40,
   "metadata": {},
   "outputs": [
    {
     "data": {
      "text/plain": [
       "tensor([[[[-0.0336,  0.0759,  0.0243,  0.0736],\n",
       "          [-0.0783, -0.0537, -0.0462, -0.0758],\n",
       "          [-0.0518,  0.0844,  0.1002,  0.0140],\n",
       "          [ 0.0114, -0.0269,  0.0414, -0.0589]]]],\n",
       "       grad_fn=<NativeBatchNormBackward>)"
      ]
     },
     "execution_count": 40,
     "metadata": {},
     "output_type": "execute_result"
    }
   ],
   "source": [
    "bn(x[:1])"
   ]
  },
  {
   "cell_type": "code",
   "execution_count": 39,
   "metadata": {},
   "outputs": [
    {
     "data": {
      "text/plain": [
       "tensor([[2.3283e-10]], grad_fn=<MeanBackward0>)"
      ]
     },
     "execution_count": 39,
     "metadata": {},
     "output_type": "execute_result"
    }
   ],
   "source": [
    "bn(x[:1]).mean(dim=[2, 3])"
   ]
  },
  {
   "cell_type": "markdown",
   "metadata": {},
   "source": [
    "## Softmax"
   ]
  },
  {
   "cell_type": "code",
   "execution_count": null,
   "metadata": {},
   "outputs": [],
   "source": []
  }
 ],
 "metadata": {
  "kernelspec": {
   "display_name": "Python [default]",
   "language": "python",
   "name": "python3"
  },
  "language_info": {
   "codemirror_mode": {
    "name": "ipython",
    "version": 3
   },
   "file_extension": ".py",
   "mimetype": "text/x-python",
   "name": "python",
   "nbconvert_exporter": "python",
   "pygments_lexer": "ipython3",
   "version": "3.5.4"
  }
 },
 "nbformat": 4,
 "nbformat_minor": 2
}
