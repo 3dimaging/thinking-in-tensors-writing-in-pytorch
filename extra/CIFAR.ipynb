{
 "cells": [
  {
   "cell_type": "markdown",
   "metadata": {},
   "source": [
    "# Thinking in tensors in PyTorch\n",
    "\n",
    "Hands-on training  by [Piotr Migdał](https://p.migdal.pl) (2019). Version 0.4 for Uniwersytet Śląski.\n",
    "\n",
    "**Under construction**\n",
    "\n",
    "\n",
    "## Extra: Image classification with CIFAR\n",
    "\n",
    "\n",
    "[![Open In Colab](https://colab.research.google.com/assets/colab-badge.svg)](https://colab.research.google.com/github/stared/thinking-in-tensors-writing-in-pytorch/blob/master/extra/CIFAR.ipynb)\n",
    "\n",
    "\n",
    "\n",
    "Datasets: https://pytorch.org/docs/stable/torchvision/datasets.html\n",
    "\n",
    "See [Starting deep learning hands-on: image classification on CIFAR-10](https://deepsense.ai/deep-learning-hands-on-image-classification/) for a longer description\n",
    "\n",
    "State of the art results:\n",
    "\n",
    "* https://github.com/kuangliu/pytorch-cifar\n",
    "* [Browse state-of-the-art for AI](https://paperswithcode.com/sota)\n",
    "    * [Image Classification on CIFAR-10](https://paperswithcode.com/sota/image-classification-on-cifar-10)\n"
   ]
  },
  {
   "cell_type": "code",
   "execution_count": null,
   "metadata": {},
   "outputs": [],
   "source": [
    "import numpy as np\n",
    "from matplotlib import pyplot as plt\n",
    "from torchvision import datasets, transforms\n",
    "from torch.utils.data import DataLoader"
   ]
  },
  {
   "cell_type": "code",
   "execution_count": null,
   "metadata": {},
   "outputs": [],
   "source": [
    "transforms.Pad?"
   ]
  },
  {
   "cell_type": "code",
   "execution_count": null,
   "metadata": {},
   "outputs": [],
   "source": [
    "transform = transforms.Compose([\n",
    "     #transforms.RandomAffine(45, scale=(0.5, 2.)),\n",
    "     transforms.ToTensor(),\n",
    "     transforms.Normalize((0.5, 0.5, 0.5), (0.5, 0.5, 0.5))])\n",
    "\n",
    "trainset = datasets.CIFAR10(root='./data', train=True,\n",
    "                            download=True, transform=transform)\n",
    "trainloader = DataLoader(trainset, batch_size=4,\n",
    "                         shuffle=True, num_workers=2)\n",
    "\n",
    "testset = datasets.CIFAR10(root='./data', train=False,\n",
    "                           download=True, transform=transform)\n",
    "testloader = DataLoader(testset, batch_size=4,\n",
    "                        shuffle=False, num_workers=2)\n",
    "\n",
    "classes = ['plane', 'car', 'bird', 'cat', 'deer', 'dog', 'frog', 'horse', 'ship', 'truck']"
   ]
  },
  {
   "cell_type": "code",
   "execution_count": null,
   "metadata": {},
   "outputs": [],
   "source": [
    "for inputs, labels in trainloader:\n",
    "    inputs = inputs\n",
    "    labels = labels\n",
    "    print(\"Input size:   \", inputs.size())\n",
    "    print(\"Label size:   \", labels.size())\n",
    "    print(\"Label values: \", labels)\n",
    "    break"
   ]
  },
  {
   "cell_type": "code",
   "execution_count": null,
   "metadata": {},
   "outputs": [],
   "source": [
    "# labels are integers\n",
    "labels.dtype"
   ]
  },
  {
   "cell_type": "code",
   "execution_count": null,
   "metadata": {},
   "outputs": [],
   "source": [
    "img = 0.5 * inputs.permute(0, 2, 3, 1).numpy()[0] + 0.5\n",
    "plt.imshow(img)"
   ]
  },
  {
   "cell_type": "code",
   "execution_count": null,
   "metadata": {},
   "outputs": [],
   "source": [
    "for x in inputs:\n",
    "    print(x.size())"
   ]
  },
  {
   "cell_type": "code",
   "execution_count": null,
   "metadata": {},
   "outputs": [],
   "source": [
    "def draw_batch(X, Y, classes=classes, scale=3):\n",
    "    assert X.size(0) == Y.size(0)\n",
    "    n = X.size(0)\n",
    "    fig, axs = plt.subplots(1, n, figsize=(scale * n, scale))\n",
    "    for i, img_tensor in enumerate(X):\n",
    "        img_numpy = img_tensor.permute(1, 2, 0).numpy()\n",
    "        ax = axs[i]\n",
    "        ax.imshow(0.5 * img_numpy + 0.5, interpolation='none')\n",
    "        ax.set_title(classes[Y[i].item()])\n",
    "        ax.axis('off')"
   ]
  },
  {
   "cell_type": "code",
   "execution_count": null,
   "metadata": {},
   "outputs": [],
   "source": [
    "for inputs, labels in trainloader:\n",
    "    draw_batch(inputs, labels)\n",
    "    plt.show()\n",
    "    break"
   ]
  },
  {
   "cell_type": "code",
   "execution_count": null,
   "metadata": {},
   "outputs": [],
   "source": [
    "avg_per_class = np.zeros((len(classes), 32, 32, 3), dtype=np.float32)\n",
    "class_count = np.zeros((len(classes)), dtype=np.float32)"
   ]
  },
  {
   "cell_type": "code",
   "execution_count": null,
   "metadata": {},
   "outputs": [],
   "source": [
    "for inputs, labels in trainloader:\n",
    "    avg_per_class[labels.numpy()] += 0.5 * inputs.sum(dim=0).permute(1, 2, 0).numpy() + 0.5\n",
    "    for label in labels:\n",
    "        class_count[label.item()] += 1."
   ]
  },
  {
   "cell_type": "markdown",
   "metadata": {},
   "source": [
    "[The Average Woman's Face Around The World](https://www.huffingtonpost.ca/2013/10/07/average-woman-face-around-world_n_4058145.html) - an art project by [](https://pmsol3.wordpress.com/)"
   ]
  },
  {
   "cell_type": "code",
   "execution_count": null,
   "metadata": {},
   "outputs": [],
   "source": [
    "import math\n",
    "\n",
    "def draw_averages(trainloader, classes=classes, cols=5, scale=2):\n",
    "    \n",
    "    avg_per_class = np.zeros((len(classes), 32, 32, 3), dtype=np.float32)\n",
    "    class_count = np.zeros((len(classes)), dtype=np.float32)\n",
    "    \n",
    "    for inputs, labels in trainloader:\n",
    "        avg_per_class[labels.numpy()] += 0.5 * inputs.sum(dim=0).permute(1, 2, 0).numpy() + 0.5\n",
    "        for label in labels:\n",
    "            class_count[label.item()] += 1.\n",
    "\n",
    "    fig, axs = plt.subplots(1, cols, figsize=(scale * cols, scale))\n",
    "    for i, class_name in enumerate(classes):\n",
    "        ax = axs[i]\n",
    "        ax.imshow(avg_per_class[i] / class_count[i], interpolation='none')\n",
    "        ax.set_title(class_name)\n",
    "        ax.axis('off') \n",
    "            \n",
    "#     rows = math.ceil(len(classes) / cols)\n",
    "#     fig, axs = plt.subplots(rows, cols, figsize=(scale * cols, scale * rows))\n",
    "#     for i, class_name in enumerate(classes):\n",
    "#         ax = axs[math.floor(i / rows), i % rows]\n",
    "#         ax.imshow(avg_per_class[i] / class_count[i], interpolation='none')\n",
    "#         ax.set_title(class_name)\n",
    "#         ax.axis('off')"
   ]
  },
  {
   "cell_type": "code",
   "execution_count": null,
   "metadata": {},
   "outputs": [],
   "source": [
    "draw_averages(trainloader, classes=classes, cols=10, scale=3)"
   ]
  },
  {
   "cell_type": "code",
   "execution_count": null,
   "metadata": {},
   "outputs": [],
   "source": [
    "-1 // 2"
   ]
  },
  {
   "cell_type": "code",
   "execution_count": null,
   "metadata": {},
   "outputs": [],
   "source": []
  }
 ],
 "metadata": {
  "kernelspec": {
   "display_name": "Python [default]",
   "language": "python",
   "name": "python3"
  },
  "language_info": {
   "codemirror_mode": {
    "name": "ipython",
    "version": 3
   },
   "file_extension": ".py",
   "mimetype": "text/x-python",
   "name": "python",
   "nbconvert_exporter": "python",
   "pygments_lexer": "ipython3",
   "version": "3.5.4"
  },
  "varInspector": {
   "cols": {
    "lenName": 16,
    "lenType": 16,
    "lenVar": 40
   },
   "kernels_config": {
    "python": {
     "delete_cmd_postfix": "",
     "delete_cmd_prefix": "del ",
     "library": "var_list.py",
     "varRefreshCmd": "print(var_dic_list())"
    },
    "r": {
     "delete_cmd_postfix": ") ",
     "delete_cmd_prefix": "rm(",
     "library": "var_list.r",
     "varRefreshCmd": "cat(var_dic_list()) "
    }
   },
   "types_to_exclude": [
    "module",
    "function",
    "builtin_function_or_method",
    "instance",
    "_Feature"
   ],
   "window_display": false
  }
 },
 "nbformat": 4,
 "nbformat_minor": 2
}
