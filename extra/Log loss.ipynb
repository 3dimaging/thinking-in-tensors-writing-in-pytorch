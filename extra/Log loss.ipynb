{
 "cells": [
  {
   "cell_type": "markdown",
   "metadata": {},
   "source": [
    "## What is log loss?\n",
    "\n",
    "\n",
    "References:\n",
    "\n",
    "* [Understanding binary cross-entropy / log loss: a visual explanation](https://towardsdatascience.com/understanding-binary-cross-entropy-log-loss-a-visual-explanation-a3ac6025181a) by Daniel Godoy\n",
    "\n",
    "## Logistic regression\n",
    "\n",
    "Multi-class logistic regression can be expressed as a shallow neural network consisting of one linear layer and a softmax activation function.\n",
    "\n",
    "For binary classification, we can use sigmoid (a.k.a. logistic function):\n",
    "\n",
    "$$ \\sigma(x) = \\frac{1}{1+\\exp(-x)} $$\n",
    "\n",
    "Softmax function transforms any vector into distribution vector (values in range (0., 1.) that sum up to 1.):\n",
    "$$\\text{softmax}(x_i) = \\frac{\\exp(x_i)}{\\sum_j \\exp(x_j)}$$\n",
    "\n",
    "We use a cross-entropy loss function:\n",
    "$$- \\sum_j p_{j, true} \\log(p_{j, pred})$$\n",
    "\n",
    "Note that we do not state explicitly the softmax function in the model class below. For details see [torch.nn.CrossEntropyLoss](https://pytorch.org/docs/stable/nn.html#torch.nn.CrossEntropyLoss).\n",
    "\n",
    "See also:\n",
    "\n",
    "* [Cross-entropy vs. mean-squared error loss](https://www.reddit.com/r/MachineLearning/comments/8im9eb/d_crossentropy_vs_meansquared_error_loss/)\n",
    "* [Cross entropy](https://pandeykartikey.github.io/machine/learning/basics/2018/05/22/cross-entropy.html) - another explanation\n",
    "* [Softmax function](https://en.wikipedia.org/wiki/Softmax_function)\n",
    "* [Multiclass logistic regression](https://en.wikipedia.org/wiki/Multinomial_logistic_regression)"
   ]
  },
  {
   "cell_type": "code",
   "execution_count": 2,
   "metadata": {},
   "outputs": [],
   "source": [
    "from torch import tensor"
   ]
  },
  {
   "cell_type": "markdown",
   "metadata": {},
   "source": [
    "For example, let's say the predictions for 'this dot is red' are:"
   ]
  },
  {
   "cell_type": "code",
   "execution_count": 3,
   "metadata": {},
   "outputs": [],
   "source": [
    "preds  = tensor([0.2, 0.05, 0.1, 0.8, 0.8, 0.9])\n",
    "labels = tensor([  0,    0,   1,   1,   0,   1])"
   ]
  },
  {
   "cell_type": "code",
   "execution_count": null,
   "metadata": {},
   "outputs": [],
   "source": []
  }
 ],
 "metadata": {
  "kernelspec": {
   "display_name": "Python [default]",
   "language": "python",
   "name": "python3"
  },
  "language_info": {
   "codemirror_mode": {
    "name": "ipython",
    "version": 3
   },
   "file_extension": ".py",
   "mimetype": "text/x-python",
   "name": "python",
   "nbconvert_exporter": "python",
   "pygments_lexer": "ipython3",
   "version": "3.5.4"
  }
 },
 "nbformat": 4,
 "nbformat_minor": 2
}
