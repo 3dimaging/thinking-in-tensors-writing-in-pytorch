{
 "cells": [
  {
   "cell_type": "markdown",
   "metadata": {},
   "source": [
    "# Thinking in tensors in PyTorch\n",
    "\n",
    "Hands-on training  by [Piotr Migdał](https://p.migdal.pl) (2019). \n",
    "\n",
    "\n",
    "## Text generation\n",
    "\n",
    "* [The Unreasonable Effectiveness of Recurrent Neural Networks](http://karpathy.github.io/2015/05/21/rnn-effectiveness/) by Andrej Karpathy\n",
    "* [RecurrentJS](http://cs.stanford.edu/people/karpathy/recurrentjs) - an in-browser demo by Andrej Karpathy\n",
    "* [Unsupervised sentiment neuron by OpenAI](https://openai.com/blog/unsupervised-sentiment-neuron/)\n",
    "* [Generating Magic cards using deep, recurrent neural networks](https://www.mtgsalvation.com/forums/magic-fundamentals/custom-card-creation/612057-generating-magic-cards-using-deep-recurrent-neural)\n",
    "\n",
    "Other\n",
    "\n",
    "* [Training a Keras model to generate colors](https://heartbeat.fritz.ai/how-to-train-a-keras-model-to-generate-colors-3bc79e54971b)\n",
    "\n",
    "\n",
    "## Various practical links\n",
    "\n",
    "* [What is the best way to remove accents in a Python unicode string?](https://stackoverflow.com/questions/517923/what-is-the-best-way-to-remove-accents-in-a-python-unicode-string)"
   ]
  },
  {
   "cell_type": "code",
   "execution_count": 51,
   "metadata": {},
   "outputs": [
    {
     "name": "stdout",
     "output_type": "stream",
     "text": [
      "Requirement already satisfied: unidecode in /Users/pmigdal/anaconda3/lib/python3.5/site-packages (1.0.22)\n",
      "\u001b[33mYou are using pip version 19.0.3, however version 19.3.1 is available.\n",
      "You should consider upgrading via the 'pip install --upgrade pip' command.\u001b[0m\n"
     ]
    }
   ],
   "source": [
    "!pip install unidecode"
   ]
  },
  {
   "cell_type": "code",
   "execution_count": 57,
   "metadata": {},
   "outputs": [],
   "source": [
    "import numpy as np\n",
    "import pandas as pd\n",
    "from collections import Counter\n",
    "from unidecode import unidecode"
   ]
  },
  {
   "cell_type": "code",
   "execution_count": 29,
   "metadata": {},
   "outputs": [],
   "source": [
    "names = pd.read_csv(\"https://www.dropbox.com/s/nu2y0p3i2jvwfki/surnames.csv?dl=1\")"
   ]
  },
  {
   "cell_type": "code",
   "execution_count": 30,
   "metadata": {},
   "outputs": [
    {
     "name": "stdout",
     "output_type": "stream",
     "text": [
      "<class 'pandas.core.frame.DataFrame'>\n",
      "RangeIndex: 20071 entries, 0 to 20070\n",
      "Data columns (total 2 columns):\n",
      "name        20071 non-null object\n",
      "language    20071 non-null object\n",
      "dtypes: object(2)\n",
      "memory usage: 313.7+ KB\n"
     ]
    }
   ],
   "source": [
    "names.info()"
   ]
  },
  {
   "cell_type": "code",
   "execution_count": 31,
   "metadata": {},
   "outputs": [
    {
     "data": {
      "text/html": [
       "<div>\n",
       "<style scoped>\n",
       "    .dataframe tbody tr th:only-of-type {\n",
       "        vertical-align: middle;\n",
       "    }\n",
       "\n",
       "    .dataframe tbody tr th {\n",
       "        vertical-align: top;\n",
       "    }\n",
       "\n",
       "    .dataframe thead th {\n",
       "        text-align: right;\n",
       "    }\n",
       "</style>\n",
       "<table border=\"1\" class=\"dataframe\">\n",
       "  <thead>\n",
       "    <tr style=\"text-align: right;\">\n",
       "      <th></th>\n",
       "      <th>name</th>\n",
       "      <th>language</th>\n",
       "    </tr>\n",
       "  </thead>\n",
       "  <tbody>\n",
       "    <tr>\n",
       "      <th>9351</th>\n",
       "      <td>mcmahon</td>\n",
       "      <td>Irish</td>\n",
       "    </tr>\n",
       "    <tr>\n",
       "      <th>1841</th>\n",
       "      <td>shadid</td>\n",
       "      <td>Arabic</td>\n",
       "    </tr>\n",
       "    <tr>\n",
       "      <th>14015</th>\n",
       "      <td>jakushov</td>\n",
       "      <td>Russian</td>\n",
       "    </tr>\n",
       "    <tr>\n",
       "      <th>9783</th>\n",
       "      <td>mackay</td>\n",
       "      <td>Scottish</td>\n",
       "    </tr>\n",
       "    <tr>\n",
       "      <th>18759</th>\n",
       "      <td>yuzhilin</td>\n",
       "      <td>Russian</td>\n",
       "    </tr>\n",
       "  </tbody>\n",
       "</table>\n",
       "</div>"
      ],
      "text/plain": [
       "           name  language\n",
       "9351    mcmahon     Irish\n",
       "1841     shadid    Arabic\n",
       "14015  jakushov   Russian\n",
       "9783     mackay  Scottish\n",
       "18759  yuzhilin   Russian"
      ]
     },
     "execution_count": 31,
     "metadata": {},
     "output_type": "execute_result"
    }
   ],
   "source": [
    "names.sample(5)"
   ]
  },
  {
   "cell_type": "code",
   "execution_count": 37,
   "metadata": {},
   "outputs": [
    {
     "data": {
      "text/plain": [
       "Russian       9405\n",
       "English       3668\n",
       "Arabic        2000\n",
       "Japanese       991\n",
       "German         724\n",
       "Italian        709\n",
       "Czech          519\n",
       "Spanish        298\n",
       "Dutch          297\n",
       "French         277\n",
       "Chinese        268\n",
       "Irish          232\n",
       "Greek          203\n",
       "Polish         139\n",
       "Scottish       100\n",
       "Korean          94\n",
       "Portuguese      74\n",
       "Vietnamese      73\n",
       "Name: language, dtype: int64"
      ]
     },
     "execution_count": 37,
     "metadata": {},
     "output_type": "execute_result"
    }
   ],
   "source": [
    "names['language'].value_counts()"
   ]
  },
  {
   "cell_type": "code",
   "execution_count": 49,
   "metadata": {},
   "outputs": [
    {
     "data": {
      "text/plain": [
       "2       47\n",
       "3      335\n",
       "4     1319\n",
       "5     2711\n",
       "6     3926\n",
       "7     3681\n",
       "8     3068\n",
       "9     2272\n",
       "10    1460\n",
       "11     711\n",
       "12     324\n",
       "13     121\n",
       "14      46\n",
       "15      13\n",
       "16       8\n",
       "17      24\n",
       "18       3\n",
       "19       1\n",
       "20       1\n",
       "Name: name, dtype: int64"
      ]
     },
     "execution_count": 49,
     "metadata": {},
     "output_type": "execute_result"
    }
   ],
   "source": [
    "names['name'].apply(len).value_counts().sort_index()"
   ]
  },
  {
   "cell_type": "code",
   "execution_count": 65,
   "metadata": {},
   "outputs": [],
   "source": [
    "letters_all = Counter()\n",
    "for name in names['name']:\n",
    "    letters_all.update(name)"
   ]
  },
  {
   "cell_type": "code",
   "execution_count": 66,
   "metadata": {},
   "outputs": [
    {
     "data": {
      "text/plain": [
       "[('a', 16515),\n",
       " ('o', 11103),\n",
       " ('e', 10763),\n",
       " ('i', 10421),\n",
       " ('n', 9958),\n",
       " ('r', 8262),\n",
       " ('s', 7983),\n",
       " ('h', 7688),\n",
       " ('k', 6920),\n",
       " ('l', 6710),\n",
       " ('v', 6313),\n",
       " ('t', 5955),\n",
       " ('u', 4720),\n",
       " ('m', 4351),\n",
       " ('d', 3899),\n",
       " ('b', 3657),\n",
       " ('y', 3616),\n",
       " ('g', 3217),\n",
       " ('c', 3070),\n",
       " ('z', 1932),\n",
       " ('f', 1778),\n",
       " ('p', 1711),\n",
       " ('j', 1349),\n",
       " ('w', 1127),\n",
       " (' ', 125),\n",
       " ('q', 98),\n",
       " (\"'\", 87),\n",
       " ('x', 73),\n",
       " ('-', 25),\n",
       " ('ö', 24),\n",
       " ('é', 23),\n",
       " ('í', 14),\n",
       " ('ó', 13),\n",
       " ('á', 13),\n",
       " ('ä', 13),\n",
       " ('ü', 11),\n",
       " ('à', 10),\n",
       " ('ß', 9),\n",
       " ('ú', 7),\n",
       " ('ñ', 6),\n",
       " ('ò', 3),\n",
       " ('ś', 3),\n",
       " ('1', 3),\n",
       " ('è', 2),\n",
       " ('ã', 2),\n",
       " ('ż', 2),\n",
       " ('ê', 1),\n",
       " ('ç', 1),\n",
       " ('ù', 1),\n",
       " ('ì', 1),\n",
       " ('õ', 1),\n",
       " (':', 1),\n",
       " ('\\xa0', 1),\n",
       " ('ń', 1),\n",
       " ('ł', 1),\n",
       " ('ą', 1),\n",
       " ('/', 1)]"
      ]
     },
     "execution_count": 66,
     "metadata": {},
     "output_type": "execute_result"
    }
   ],
   "source": [
    "letters_all.most_common()"
   ]
  },
  {
   "cell_type": "code",
   "execution_count": 67,
   "metadata": {},
   "outputs": [
    {
     "data": {
      "text/plain": [
       "[('a', 16554),\n",
       " ('o', 11144),\n",
       " ('e', 10789),\n",
       " ('i', 10436),\n",
       " ('n', 9965),\n",
       " ('r', 8262),\n",
       " ('s', 8004),\n",
       " ('h', 7688),\n",
       " ('k', 6920),\n",
       " ('l', 6711),\n",
       " ('v', 6313),\n",
       " ('t', 5955),\n",
       " ('u', 4739),\n",
       " ('m', 4351),\n",
       " ('d', 3899),\n",
       " ('b', 3657),\n",
       " ('y', 3616),\n",
       " ('g', 3217),\n",
       " ('c', 3071),\n",
       " ('z', 1934),\n",
       " ('f', 1778),\n",
       " ('p', 1711),\n",
       " ('j', 1349),\n",
       " ('w', 1127),\n",
       " (' ', 126),\n",
       " ('q', 98),\n",
       " (\"'\", 87),\n",
       " ('x', 73),\n",
       " ('-', 25),\n",
       " ('1', 3),\n",
       " (':', 1),\n",
       " ('/', 1)]"
      ]
     },
     "execution_count": 67,
     "metadata": {},
     "output_type": "execute_result"
    }
   ],
   "source": [
    "letters = Counter()\n",
    "for name in names['name']:\n",
    "    letters.update(unidecode(name))\n",
    "letters.most_common()"
   ]
  },
  {
   "cell_type": "code",
   "execution_count": 70,
   "metadata": {},
   "outputs": [],
   "source": [
    "char2id = {c: i for i, (c, v) in enumerate(letters.items())}\n",
    "id2char = {i: c for i, (c, v) in enumerate(letters.items())}"
   ]
  },
  {
   "cell_type": "code",
   "execution_count": 69,
   "metadata": {},
   "outputs": [
    {
     "data": {
      "text/plain": [
       "{'a': 0,\n",
       " 'b': 1,\n",
       " 'n': 2,\n",
       " 'o': 3,\n",
       " 'r': 4,\n",
       " 'c': 5,\n",
       " 's': 6,\n",
       " 'l': 7,\n",
       " 'e': 8,\n",
       " 'q': 9,\n",
       " 'u': 10,\n",
       " 't': 11,\n",
       " 'g': 12,\n",
       " 'm': 13,\n",
       " 'i': 14,\n",
       " 'z': 15,\n",
       " 'd': 16,\n",
       " 'f': 17,\n",
       " 'v': 18,\n",
       " 'j': 19,\n",
       " 'y': 20,\n",
       " 'h': 21,\n",
       " 'x': 22,\n",
       " 'p': 23,\n",
       " \"'\": 24,\n",
       " ' ': 25,\n",
       " 'k': 26,\n",
       " 'w': 27,\n",
       " '-': 28,\n",
       " ':': 29,\n",
       " '/': 30,\n",
       " '1': 31}"
      ]
     },
     "execution_count": 69,
     "metadata": {},
     "output_type": "execute_result"
    }
   ],
   "source": [
    "char2id"
   ]
  },
  {
   "cell_type": "code",
   "execution_count": null,
   "metadata": {},
   "outputs": [],
   "source": [
    "letters_all = Counter()\n",
    "for name in names['name']:\n",
    "    letters_all.update(name)"
   ]
  },
  {
   "cell_type": "code",
   "execution_count": null,
   "metadata": {},
   "outputs": [],
   "source": [
    "def encode_name(name):\n",
    "    "
   ]
  }
 ],
 "metadata": {
  "kernelspec": {
   "display_name": "Python [conda env:py37]",
   "language": "python",
   "name": "conda-env-py37-py"
  },
  "language_info": {
   "codemirror_mode": {
    "name": "ipython",
    "version": 3
   },
   "file_extension": ".py",
   "mimetype": "text/x-python",
   "name": "python",
   "nbconvert_exporter": "python",
   "pygments_lexer": "ipython3",
   "version": "3.7.2"
  },
  "varInspector": {
   "cols": {
    "lenName": 16,
    "lenType": 16,
    "lenVar": 40
   },
   "kernels_config": {
    "python": {
     "delete_cmd_postfix": "",
     "delete_cmd_prefix": "del ",
     "library": "var_list.py",
     "varRefreshCmd": "print(var_dic_list())"
    },
    "r": {
     "delete_cmd_postfix": ") ",
     "delete_cmd_prefix": "rm(",
     "library": "var_list.r",
     "varRefreshCmd": "cat(var_dic_list()) "
    }
   },
   "types_to_exclude": [
    "module",
    "function",
    "builtin_function_or_method",
    "instance",
    "_Feature"
   ],
   "window_display": false
  }
 },
 "nbformat": 4,
 "nbformat_minor": 2
}
